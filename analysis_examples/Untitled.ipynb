{
 "cells": [
  {
   "cell_type": "code",
   "execution_count": 8,
   "metadata": {},
   "outputs": [
    {
     "name": "stdout",
     "output_type": "stream",
     "text": [
      "/Users/mattlevitan\n"
     ]
    }
   ],
   "source": [
    "cd ~"
   ]
  },
  {
   "cell_type": "code",
   "execution_count": 10,
   "metadata": {},
   "outputs": [
    {
     "name": "stdout",
     "output_type": "stream",
     "text": [
      "/Users/mattlevitan/Downloads\n"
     ]
    }
   ],
   "source": [
    "cd Downloads/\n"
   ]
  },
  {
   "cell_type": "code",
   "execution_count": 11,
   "metadata": {},
   "outputs": [
    {
     "name": "stdout",
     "output_type": "stream",
     "text": [
      "\u001b[34mAtom.app\u001b[m\u001b[m/\n",
      "Capstone I proposal.pdf\n",
      "Estimating_Mortgage_Prepayment_Risks_Using_GIS_Dat.pdf\n",
      "Frank_Sampling.pdf\n",
      "GMM.PDF\n",
      "Git-Workflow-Case-Studies.pdf\n",
      "\u001b[34mGitHub Desktop.app\u001b[m\u001b[m/\n",
      "GitHubDesktop.zip\n",
      "MLE Scott Long.pdf\n",
      "MLE_Notes (1).pdf\n",
      "MLE_Notes.pdf\n",
      "Plotly-Mapbox-choropleth.ipynb\n",
      "Untitled.ipynb\n",
      "area_definitions_m2017 (1).xlsx\n",
      "area_definitions_m2017.xlsx\n",
      "cbsa.tiger2013.json\n",
      "cbsa.tiger2013.json.gz\n",
      "cbsa2fipsxw.csv\n",
      "\u001b[34mdsd-case-study-data-exploration\u001b[m\u001b[m/\n",
      "\u001b[34meconometrics notes\u001b[m\u001b[m/\n",
      "folium.ipynb\n",
      "\u001b[34mfoliumdemodata\u001b[m\u001b[m/\n",
      "googlechrome.dmg\n",
      "\u001b[34miTerm.app\u001b[m\u001b[m/\n",
      "iTerm2-3_2_7.zip\n",
      "legend.py\n",
      "mathew-schwartz-792855-unsplash.jpg\n",
      "matt.ipynb\n",
      "mf_mrtg_data_prep.pyc\n",
      "missing_value_imputation.ipynb\n",
      "nasa-53884-unsplash.jpg\n",
      "pca_svd.pdf\n",
      "pgadmin4-4.2.dmg\n",
      "\u001b[34mtemp_folder\u001b[m\u001b[m/\n",
      "\u001b[34mtl_2013_us_cbsa\u001b[m\u001b[m/\n",
      "tl_2013_us_cbsa.zip\n",
      "\u001b[34mtl_2016_us_cbsa\u001b[m\u001b[m/\n",
      "tl_2016_us_cbsa.zip\n"
     ]
    }
   ],
   "source": [
    "\n"
   ]
  },
  {
   "cell_type": "code",
   "execution_count": 5,
   "metadata": {},
   "outputs": [
    {
     "data": {
      "text/plain": [
       "\u001b[0;31mType:\u001b[0m        module\n",
       "\u001b[0;31mString form:\u001b[0m <module 'plotly' from '/anaconda3/lib/python3.7/site-packages/plotly/__init__.py'>\n",
       "\u001b[0;31mFile:\u001b[0m        /anaconda3/lib/python3.7/site-packages/plotly/__init__.py\n",
       "\u001b[0;31mDocstring:\u001b[0m  \n",
       "https://plot.ly/python/\n",
       "\n",
       "Plotly's Python API allows users to programmatically access Plotly's\n",
       "server resources.\n",
       "\n",
       "This package is organized as follows:\n",
       "\n",
       "Subpackages:\n",
       "\n",
       "- plotly: all functionality that requires access to Plotly's servers\n",
       "\n",
       "- graph_objs: objects for designing figures and visualizing data\n",
       "\n",
       "- matplotlylib: tools to convert matplotlib figures\n",
       "\n",
       "Modules:\n",
       "\n",
       "- tools: some helpful tools that do not require access to Plotly's servers\n",
       "\n",
       "- utils: functions that you probably won't need, but that subpackages use\n",
       "\n",
       "- version: holds the current API version\n",
       "\n",
       "- exceptions: defines our custom exception classes\n"
      ]
     },
     "metadata": {},
     "output_type": "display_data"
    }
   ],
   "source": [
    "plotly?\n"
   ]
  },
  {
   "cell_type": "code",
   "execution_count": null,
   "metadata": {},
   "outputs": [],
   "source": []
  }
 ],
 "metadata": {
  "kernelspec": {
   "display_name": "Python 3",
   "language": "python",
   "name": "python3"
  },
  "language_info": {
   "codemirror_mode": {
    "name": "ipython",
    "version": 3
   },
   "file_extension": ".py",
   "mimetype": "text/x-python",
   "name": "python",
   "nbconvert_exporter": "python",
   "pygments_lexer": "ipython3",
   "version": "3.7.1"
  }
 },
 "nbformat": 4,
 "nbformat_minor": 2
}
