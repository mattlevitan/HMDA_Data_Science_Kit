{
 "cells": [
  {
   "cell_type": "markdown",
   "metadata": {},
   "source": [
    "# Plotting a Time Series of HMDA Filers by Category"
   ]
  },
  {
   "cell_type": "raw",
   "metadata": {},
   "source": [
    "### Scope of Notebook\n",
    "This notebook will build on the [previous analysis example](https://github.com/cfpb/HMDA_Data_Science_Kit/blob/master/analysis_examples/1.%20Plotting%20a%20Time%20Series%20of%20HMDA%20Filers%20from%202004-2017.ipynb) of counting the number of institutions that have filed HMDA data from 2004-2017, by demonstrating how to filter counts by a particular category. The code below will focus on counts taken from the Transmittal Sheet dataset inside the HMDA collections.\n",
    "\n",
    "The example will show how to pull Transmittal Sheet data from a local Postgres database, filter by a particular category, write the data to a pipe-delimited text file, and produce a graph in the Jupyter notebook as well as save the graph to a .png file.\n",
    "\n",
    "Additionally, more advanced methods using functions will be shown as an introduction to a library of functions that can be used to interact with the HMDA data.\n",
    "\n",
    "While these examples provide some commentary on the use of SQL and Python, they should not be considered a replacement for more full fledged tutorials on how to use these tools. \n",
    "\n",
    "### Setup Requirements\n",
    "In order to run this example locally several software packages need to be installed and configured. \n",
    "Please see [these instructions](https://github.com/Kibrael/HMDA_Data_Science_Kit#creating-postgres-tables-and-loading-data) to get a local Postgres database set up and populated with HMDA data. \n",
    "Please see [these instructions](https://github.com/Kibrael/HMDA_Data_Science_Kit#requirements) for setting up a Python development environment. Python 3.5 or higher is required as well as several libraries.\n",
    "\n",
    "\n",
    "### Python Libraries Used\n",
    "- [Pandas](https://pandas.pydata.org/pandas-docs/stable/): a data manipulation and analysis package.\n",
    "- [Psycopg2](http://initd.org/psycopg/docs/): a database driver library providing APIs for connecting Python to Postgres.\n",
    "- [Matplotlib](https://matplotlib.org/): a library to enable inline plotting with Pandas and Jupyter notebooks.\n",
    "- [Jupyter](http://jupyter.org/documentation): a development tool that supports multiple formats for display such as Markdown and Python. Allows segmentation of code into cells for easy data manipulation trials.\n",
    "\n",
    "### Approach\n",
    "This notebook will leverage Postgres SQL as a data store and aggregation tool. Python will be used to interact with the database through the Psycopg2 library. The Pandas library will be used for data handling after pulling from Postgres. This includes cleaning, analysis, and visualization with the Matplotlib library (which integrates with Pandas).\n",
    "\n",
    "The procss for this analysis will be:\n",
    "- Establish a connection to the database using psycopg2\n",
    "- Call a SQL file through Python to pull Transmittal Sheet counts by year\n",
    "- Filter by a particular category\n",
    "- Load the data into a Pandas dataframe\n",
    "- Graph the data in the Jupyter notebook and save the graph to a .PNG file"
   ]
  },
  {
   "cell_type": "markdown",
   "metadata": {},
   "source": [
    "## Import Python Libraries"
   ]
  },
  {
   "cell_type": "code",
   "execution_count": 3,
   "metadata": {},
   "outputs": [],
   "source": [
    "import psycopg2 #Imports the Psycopg2 library\n",
    "import pandas as pd #Imports the Pandas library and renames it \"pd\"\n",
    "import matplotlib.pyplot as plt #imports the Matplot library and renames it \"plt\"\n",
    "import numpy as np"
   ]
  },
  {
   "cell_type": "markdown",
   "metadata": {},
   "source": [
    "### Connect to the Database\n",
    "The connection to the database, which was demonstrated in the [previous example](https://github.com/cfpb/HMDA_Data_Science_Kit/blob/master/analysis_examples/1.%20Plotting%20a%20Time%20Series%20of%20HMDA%20Filers%20from%202004-2017.ipynb), will use a locally hosted database and the hmda database created during initial setup. Please see Analysis Example 1 for further details on connecting using a locally hosted database. "
   ]
  },
  {
   "cell_type": "code",
   "execution_count": 4,
   "metadata": {},
   "outputs": [],
   "source": [
    "#Establish connection parameters\n",
    "#If you have established a username and password, change user and password below to your own username and password.\n",
    "connection_params = {\"user\":\"postgres\", \n",
    "                     \"password\":\"helloworld\", \n",
    "                     \"dbname\":\"hmda\", \n",
    "                     \"host\":\"localhost\",\n",
    "                     \"port\" : \"5433\"}"
   ]
  },
  {
   "cell_type": "code",
   "execution_count": 5,
   "metadata": {},
   "outputs": [],
   "source": [
    "def connect(params):\n",
    "    \"\"\"\n",
    "    This function accepts a dictionary of connection parameters that must include:\n",
    "    - user: the username to be used for the database session\n",
    "    - password: the user's password\n",
    "    - dbname: the name of the database for connection\n",
    "    - host: the host location of the database\n",
    "    \"\"\"\n",
    "    #attempt a connection with the supplied parameters\n",
    "    try:\n",
    "        conn = psycopg2.connect(**params)\n",
    "        print(\"I'm connected\") #print a success message\n",
    "        return conn.cursor() #return a cursor object\n",
    "    except psycopg2.Error as e: \n",
    "        print(\"I am unable to connect to the database: \", e) #print a fail message and the error, if any"
   ]
  },
  {
   "cell_type": "code",
   "execution_count": 6,
   "metadata": {},
   "outputs": [
    {
     "name": "stdout",
     "output_type": "stream",
     "text": [
      "I'm connected\n"
     ]
    }
   ],
   "source": [
    "#Test the connection function, if everything is correct, it will print \"I'm connected.\"\n",
    "cur = connect(params=connection_params)\n",
    "#Close the cursor. This is important as open cursors can interfere with updates to data tables.\n",
    "cur.close()\n",
    "\n",
    "#When using Jupyter, it is best to open and close the cursor in the same code cell. \n",
    "#If there are coding errors that interrupt the execution, the cursor will need to be reestablished. \n"
   ]
  },
  {
   "cell_type": "markdown",
   "metadata": {},
   "source": [
    "### Variabalizing a SQL Command String for Filtering\n",
    "As demonstrated in the previous example, Python strings can contain markers which enable substitution of values. This allows use of the .format() command to change the table reference for the SQL query. The string below selects the activity year and the filer count, variabalizing the year.   "
   ]
  },
  {
   "cell_type": "code",
   "execution_count": 7,
   "metadata": {},
   "outputs": [],
   "source": [
    "sql_command = \"\"\"SELECT \n",
    "                    activity_year, \n",
    "                    COUNT (*) AS filer_count\n",
    "                 FROM \n",
    "                    hmda_public.ts_{year} \n",
    "                 GROUP BY \n",
    "                    activity_year;\"\"\""
   ]
  },
  {
   "cell_type": "markdown",
   "metadata": {},
   "source": [
    "A SQL command string may be modified to select a count of filers by a given category. The command string below not only variabalizes the year of the file to be selected but also creates an extention to the query that may be modified by the user.  "
   ]
  },
  {
   "cell_type": "code",
   "execution_count": 8,
   "metadata": {},
   "outputs": [],
   "source": [
    "sql_base = \"\"\"SELECT msa,\n",
    "           count(case when lar_{year}.loan_purpose = '1' then 1 else null end) as prps_prch,\n",
    "           count(case when lar_{year}.loan_purpose = '2' then 1 else null end) as prps_impr,\n",
    "           count(case when lar_{year}.loan_purpose = '3' then 1 else null end) as prps_refi\n",
    "            FROM lar_{year} {extention}\n",
    "            ;\"\"\""
   ]
  },
  {
   "cell_type": "code",
   "execution_count": 9,
   "metadata": {},
   "outputs": [],
   "source": [
    "extention = \" GROUP BY msa\"\n",
    " "
   ]
  },
  {
   "cell_type": "code",
   "execution_count": null,
   "metadata": {},
   "outputs": [],
   "source": []
  },
  {
   "cell_type": "markdown",
   "metadata": {},
   "source": [
    "### Selecting the Number of Filers by a Particular State\n",
    "The code above may be placed in another sql file, which may be called by the the time series function defined in the previous example. The code below may be used to select for the number of filers who have their headquarters in New York. Respondent_state refers to the headquarters location of the institution and does not necessarily reflect lending patterns in that geography."
   ]
  },
  {
   "cell_type": "code",
   "execution_count": 10,
   "metadata": {},
   "outputs": [
    {
     "name": "stdout",
     "output_type": "stream",
     "text": [
      "I'm connected\n",
      "SELECT msa,\n",
      "           count(case when lar_2016.loan_purpose = '1' then 1 else null end) as prps_prch,\n",
      "           count(case when lar_2016.loan_purpose = '2' then 1 else null end) as prps_impr,\n",
      "           count(case when lar_2016.loan_purpose = '3' then 1 else null end) as prps_refi\n",
      "            FROM lar_2016  GROUP BY msa\n",
      "            ;\n"
     ]
    },
    {
     "data": {
      "text/html": [
       "<div>\n",
       "<style scoped>\n",
       "    .dataframe tbody tr th:only-of-type {\n",
       "        vertical-align: middle;\n",
       "    }\n",
       "\n",
       "    .dataframe tbody tr th {\n",
       "        vertical-align: top;\n",
       "    }\n",
       "\n",
       "    .dataframe thead th {\n",
       "        text-align: right;\n",
       "    }\n",
       "</style>\n",
       "<table border=\"1\" class=\"dataframe\">\n",
       "  <thead>\n",
       "    <tr style=\"text-align: right;\">\n",
       "      <th></th>\n",
       "      <th>msa</th>\n",
       "      <th>prps_prch</th>\n",
       "      <th>prps_impr</th>\n",
       "      <th>prps_refi</th>\n",
       "    </tr>\n",
       "  </thead>\n",
       "  <tbody>\n",
       "    <tr>\n",
       "      <th>0</th>\n",
       "      <td>10180</td>\n",
       "      <td>4110</td>\n",
       "      <td>590</td>\n",
       "      <td>2382</td>\n",
       "    </tr>\n",
       "    <tr>\n",
       "      <th>1</th>\n",
       "      <td>10380</td>\n",
       "      <td>1323</td>\n",
       "      <td>1436</td>\n",
       "      <td>1002</td>\n",
       "    </tr>\n",
       "    <tr>\n",
       "      <th>2</th>\n",
       "      <td>10420</td>\n",
       "      <td>14339</td>\n",
       "      <td>1862</td>\n",
       "      <td>14260</td>\n",
       "    </tr>\n",
       "    <tr>\n",
       "      <th>3</th>\n",
       "      <td>10500</td>\n",
       "      <td>2017</td>\n",
       "      <td>574</td>\n",
       "      <td>2670</td>\n",
       "    </tr>\n",
       "    <tr>\n",
       "      <th>4</th>\n",
       "      <td>10540</td>\n",
       "      <td>3336</td>\n",
       "      <td>309</td>\n",
       "      <td>3397</td>\n",
       "    </tr>\n",
       "  </tbody>\n",
       "</table>\n",
       "</div>"
      ],
      "text/plain": [
       "     msa  prps_prch  prps_impr  prps_refi\n",
       "0  10180       4110        590       2382\n",
       "1  10380       1323       1436       1002\n",
       "2  10420      14339       1862      14260\n",
       "3  10500       2017        574       2670\n",
       "4  10540       3336        309       3397"
      ]
     },
     "execution_count": 10,
     "metadata": {},
     "output_type": "execute_result"
    }
   ],
   "source": [
    "cur = connect(connection_params) #Establishes cursor object and connect to the database\n",
    "year = 2016\n",
    "\n",
    "#Provides the year of the file \n",
    "\n",
    "#Sets the extention variable so that it selects filers in the state of New York\n",
    "print(sql_base.format(year=year, extention=extention))\n",
    " \n",
    "#Executes the query text against the database, formatting for the year and the extention\n",
    "cur.execute(sql_base.format(year=year, extention=extention))\n",
    "results = cur.fetchall() #Returns the query results.\n",
    "#print(results)\n",
    "#print(cur.description)\n",
    "#Converts the results_list into a Pandas dataframe with names pulled from the SQL query.\n",
    "results_df = pd.DataFrame(results, columns=[desc[0] for desc in cur.description])\n",
    "cur.close() #Closes the connection and remove the cursor object.\n",
    "results_df.head() #Shows the top 5 rows of the dataframe"
   ]
  },
  {
   "cell_type": "code",
   "execution_count": null,
   "metadata": {},
   "outputs": [],
   "source": [
    "\n"
   ]
  },
  {
   "cell_type": "code",
   "execution_count": 13,
   "metadata": {},
   "outputs": [],
   "source": [
    "sql_base = \"\"\"SELECT CONCAT(lar_{year}.state_code,lar_{year}.county_code) AS fips,\n",
    "           count(case when lar_{year}.loan_purpose = '1' then 1 else null end) as prps_prch,\n",
    "           count(case when lar_{year}.loan_purpose = '2' then 1 else null end) as prps_impr,\n",
    "           count(case when lar_{year}.loan_purpose = '3' then 1 else null end) as prps_refi\n",
    "            FROM lar_{year} {extention}\n",
    "            ;\"\"\""
   ]
  },
  {
   "cell_type": "code",
   "execution_count": 14,
   "metadata": {},
   "outputs": [],
   "source": [
    "extention = \" GROUP BY state_code, county_code Limit 500\"\n",
    " "
   ]
  },
  {
   "cell_type": "code",
   "execution_count": null,
   "metadata": {},
   "outputs": [],
   "source": []
  },
  {
   "cell_type": "code",
   "execution_count": 15,
   "metadata": {},
   "outputs": [
    {
     "name": "stdout",
     "output_type": "stream",
     "text": [
      "I'm connected\n"
     ]
    },
    {
     "data": {
      "text/html": [
       "<div>\n",
       "<style scoped>\n",
       "    .dataframe tbody tr th:only-of-type {\n",
       "        vertical-align: middle;\n",
       "    }\n",
       "\n",
       "    .dataframe tbody tr th {\n",
       "        vertical-align: top;\n",
       "    }\n",
       "\n",
       "    .dataframe thead th {\n",
       "        text-align: right;\n",
       "    }\n",
       "</style>\n",
       "<table border=\"1\" class=\"dataframe\">\n",
       "  <thead>\n",
       "    <tr style=\"text-align: right;\">\n",
       "      <th></th>\n",
       "      <th>fips</th>\n",
       "      <th>prps_prch</th>\n",
       "      <th>prps_impr</th>\n",
       "      <th>prps_refi</th>\n",
       "    </tr>\n",
       "  </thead>\n",
       "  <tbody>\n",
       "    <tr>\n",
       "      <th>0</th>\n",
       "      <td>01001</td>\n",
       "      <td>1510</td>\n",
       "      <td>167</td>\n",
       "      <td>1517</td>\n",
       "    </tr>\n",
       "    <tr>\n",
       "      <th>1</th>\n",
       "      <td>01003</td>\n",
       "      <td>7977</td>\n",
       "      <td>752</td>\n",
       "      <td>6310</td>\n",
       "    </tr>\n",
       "    <tr>\n",
       "      <th>2</th>\n",
       "      <td>01005</td>\n",
       "      <td>268</td>\n",
       "      <td>44</td>\n",
       "      <td>280</td>\n",
       "    </tr>\n",
       "    <tr>\n",
       "      <th>3</th>\n",
       "      <td>01007</td>\n",
       "      <td>290</td>\n",
       "      <td>85</td>\n",
       "      <td>297</td>\n",
       "    </tr>\n",
       "    <tr>\n",
       "      <th>4</th>\n",
       "      <td>01009</td>\n",
       "      <td>1271</td>\n",
       "      <td>158</td>\n",
       "      <td>1180</td>\n",
       "    </tr>\n",
       "  </tbody>\n",
       "</table>\n",
       "</div>"
      ],
      "text/plain": [
       "    fips  prps_prch  prps_impr  prps_refi\n",
       "0  01001       1510        167       1517\n",
       "1  01003       7977        752       6310\n",
       "2  01005        268         44        280\n",
       "3  01007        290         85        297\n",
       "4  01009       1271        158       1180"
      ]
     },
     "execution_count": 15,
     "metadata": {},
     "output_type": "execute_result"
    }
   ],
   "source": [
    "cur = connect(connection_params) #Establishes cursor object and connect to the database\n",
    "year = 2016\n",
    "\n",
    "#Provides the year of the file \n",
    "\n",
    "#Sets the extention variable so that it selects filers in the state of New York\n",
    "\n",
    " \n",
    "#Executes the query text against the database, formatting for the year and the extention\n",
    "cur.execute(sql_base.format(year=year, extention=extention))\n",
    "results = cur.fetchall() #Returns the query results.\n",
    "#print(results)\n",
    "\n",
    "#Converts the results_list into a Pandas dataframe with names pulled from the SQL query.\n",
    "results_df = pd.DataFrame(results, columns=[desc[0] for desc in cur.description])\n",
    "cur.close() #Closes the connection and remove the cursor object.\n",
    "results_df.head() #Shows the top 5 rows of the dataframe"
   ]
  },
  {
   "cell_type": "code",
   "execution_count": 16,
   "metadata": {},
   "outputs": [],
   "source": [
    "results_df = results_df[ ~ results_df.fips.str.contains('NA', case=False,regex=True)]\n"
   ]
  },
  {
   "cell_type": "code",
   "execution_count": 17,
   "metadata": {},
   "outputs": [],
   "source": [
    "import plotly\n",
    "plotly.tools.set_credentials_file(username='levitan.matt', api_key='ezbwoqyVCTSUpcY0pcLc')"
   ]
  },
  {
   "cell_type": "code",
   "execution_count": 18,
   "metadata": {},
   "outputs": [],
   "source": [
    "import plotly.plotly as py\n",
    "import plotly.figure_factory as ff\n",
    "import numpy as np"
   ]
  },
  {
   "cell_type": "code",
   "execution_count": 19,
   "metadata": {},
   "outputs": [
    {
     "name": "stderr",
     "output_type": "stream",
     "text": [
      "/anaconda3/lib/python3.7/site-packages/pandas/core/frame.py:6211: FutureWarning:\n",
      "\n",
      "Sorting because non-concatenation axis is not aligned. A future version\n",
      "of pandas will change to not sort by default.\n",
      "\n",
      "To accept the future behavior, pass 'sort=False'.\n",
      "\n",
      "To retain the current behavior and silence the warning, pass 'sort=True'.\n",
      "\n",
      "\n",
      "/anaconda3/lib/python3.7/site-packages/IPython/core/display.py:689: UserWarning:\n",
      "\n",
      "Consider using IPython.display.IFrame instead\n",
      "\n"
     ]
    },
    {
     "data": {
      "text/html": [
       "<iframe id=\"igraph\" scrolling=\"no\" style=\"border:none;\" seamless=\"seamless\" src=\"https://plot.ly/~levitan.matt/8.embed\" height=\"450px\" width=\"900px\"></iframe>"
      ],
      "text/plain": [
       "<plotly.tools.PlotlyDisplay object>"
      ]
     },
     "execution_count": 19,
     "metadata": {},
     "output_type": "execute_result"
    }
   ],
   "source": [
    "results_df = results_df[ ~ results_df.fips.str.contains('NA', case=False,regex=True)]\n",
    "fips = results_df.fips\n",
    "values = results_df.prps_refi\n",
    "\n",
    "bins =list(np.mgrid[min(values):max(values):10j])\n",
    "\n",
    "fig =ff.create_choropleth(\n",
    "    fips=fips, values=values, scope=['usa'],\n",
    "    binning_endpoints=bins)\n",
    "py.iplot(fig, filename='choropleth of us counties - refi LAR')"
   ]
  },
  {
   "cell_type": "code",
   "execution_count": null,
   "metadata": {},
   "outputs": [],
   "source": [
    "\n",
    "\n",
    "\n"
   ]
  },
  {
   "cell_type": "code",
   "execution_count": 27,
   "metadata": {},
   "outputs": [
    {
     "name": "stdout",
     "output_type": "stream",
     "text": [
      "This is the format of your plot grid:\n",
      "[ (1,1) x1,y1 ]  [ (1,2) x2,y2 ]\n",
      "[ (2,1) x3,y3 ]  [ (2,2) x4,y4 ]\n",
      "\n"
     ]
    },
    {
     "name": "stderr",
     "output_type": "stream",
     "text": [
      "/anaconda3/lib/python3.7/site-packages/IPython/core/display.py:689: UserWarning:\n",
      "\n",
      "Consider using IPython.display.IFrame instead\n",
      "\n"
     ]
    },
    {
     "data": {
      "text/html": [
       "<iframe id=\"igraph\" scrolling=\"no\" style=\"border:none;\" seamless=\"seamless\" src=\"https://plot.ly/~levitan.matt/16.embed\" height=\"600px\" width=\"600px\"></iframe>"
      ],
      "text/plain": [
       "<plotly.tools.PlotlyDisplay object>"
      ]
     },
     "execution_count": 27,
     "metadata": {},
     "output_type": "execute_result"
    }
   ],
   "source": [
    "from plotly import tools\n",
    "import plotly.plotly as py\n",
    "import plotly.graph_objs as go\n",
    "\n",
    "trace4 = go.Scatter(x=[4000, 5000, 6000], y=[7000, 8000, 9000])\n",
    "trace1 = go.Scatter(x=[1, 2, 3], y=[4, 5, 6])\n",
    "trace2 = go.Scatter(x=[20, 30, 40], y=[50, 60, 70])\n",
    "trace3 = go.Scatter(x=[300, 400, 500], y=[600, 700, 800])\n",
    "\n",
    "fig = tools.make_subplots(rows=2, cols=2, subplot_titles=('Plot 1', 'Plot 2',\n",
    "                                                          'Plot 3', 'Plot 4'))\n",
    "\n",
    "fig.append_trace(trace1, 1, 1)\n",
    "fig.append_trace(trace2, 1, 2)\n",
    "fig.append_trace(trace3, 2, 1)\n",
    "fig.append_trace(trace4, 2, 2)\n",
    "\n",
    "fig['layout'].update(height=600, width=600, title='Multiple Subplots' +\n",
    "                                                  ' with Titles')\n",
    "\n",
    "py.iplot(fig, filename='make-subplots-multiple-with-titles')"
   ]
  },
  {
   "cell_type": "code",
   "execution_count": null,
   "metadata": {},
   "outputs": [],
   "source": []
  }
 ],
 "metadata": {
  "kernelspec": {
   "display_name": "Python 3",
   "language": "python",
   "name": "python3"
  },
  "language_info": {
   "codemirror_mode": {
    "name": "ipython",
    "version": 3
   },
   "file_extension": ".py",
   "mimetype": "text/x-python",
   "name": "python",
   "nbconvert_exporter": "python",
   "pygments_lexer": "ipython3",
   "version": "3.7.1"
  }
 },
 "nbformat": 4,
 "nbformat_minor": 2
}
