{
 "cells": [
  {
   "cell_type": "markdown",
   "metadata": {},
   "source": [
    "## Mapbox choropleth that works with Plotly 3.0.0"
   ]
  },
  {
   "cell_type": "code",
   "execution_count": 118,
   "metadata": {},
   "outputs": [],
   "source": [
    "import numpy as np\n",
    "import pandas as pd\n",
    "from ast import literal_eval\n",
    "import topojson\n",
    "import json\n",
    "mapbox_access_token = 'pk.eyJ1IjoibWF0dGxldml0YW4iLCJhIjoiY2pzNWcydjVyMGZkazRhb2JucGV1MjMydCJ9.lfu1STda8KYLGVnCyX6y8Q'"
   ]
  },
  {
   "cell_type": "markdown",
   "metadata": {},
   "source": [
    "Data files for this notebook are available here:\n",
    "\n",
    "[https://github.com/empet/Plotly-plots/blob/master/Data/tx_counties.topojson](https://github.com/empet/Plotly-plots/blob/master/Data/tx_counties.topojson)\n",
    "\n",
    "[https://github.com/empet/Plotly-plots/blob/master/Data/tx_unemployment.csv](https://github.com/empet/Plotly-plots/blob/master/Data/tx_unemployment.csv)    "
   ]
  },
  {
   "cell_type": "markdown",
   "metadata": {},
   "source": [
    "Read  the topojson file for the  [Texas counties](https://github.com/TNRIS/tx.geojson/tree/master/counties), \n",
    "and convert it to a geojson dict: "
   ]
  },
  {
   "cell_type": "code",
   "execution_count": 142,
   "metadata": {},
   "outputs": [],
   "source": [
    "topoJSON=pd.read_json(path_or_buf=\n",
    "                      '/Users/mattlevitan/Downloads/cbsa.tiger2013.json',\n",
    "                      typ = 'FeatureCollection')"
   ]
  },
  {
   "cell_type": "code",
   "execution_count": 148,
   "metadata": {},
   "outputs": [
    {
     "data": {
      "text/plain": [
       "type                                        FeatureCollection\n",
       "features    [{'type': 'Feature', 'properties': {'CSAFP': '...\n",
       "dtype: object"
      ]
     },
     "execution_count": 148,
     "metadata": {},
     "output_type": "execute_result"
    }
   ],
   "source": [
    "topoJSON"
   ]
  },
  {
   "cell_type": "code",
   "execution_count": null,
   "metadata": {},
   "outputs": [],
   "source": []
  },
  {
   "cell_type": "code",
   "execution_count": 22,
   "metadata": {},
   "outputs": [
    {
     "data": {
      "text/plain": [
       "Dropdown(options=[{'label': 'New York City', 'value': 'NYC'}, {'label': 'Montréal', 'value': 'MTL'}, {'label': 'San Francisco', 'value': 'SF'}], value='MTL')"
      ]
     },
     "execution_count": 22,
     "metadata": {},
     "output_type": "execute_result"
    }
   ],
   "source": [
    "import dash_core_components as dcc\n",
    "\n",
    "dcc.Dropdown(\n",
    "    options=[\n",
    "        {'label': 'New York City', 'value': 'NYC'},\n",
    "        {'label': 'Montréal', 'value': 'MTL'},\n",
    "        {'label': 'San Francisco', 'value': 'SF'}\n",
    "    ],\n",
    "    value='MTL'\n",
    ")\n"
   ]
  },
  {
   "cell_type": "code",
   "execution_count": 88,
   "metadata": {},
   "outputs": [],
   "source": []
  },
  {
   "cell_type": "code",
   "execution_count": null,
   "metadata": {},
   "outputs": [],
   "source": []
  },
  {
   "cell_type": "code",
   "execution_count": 155,
   "metadata": {},
   "outputs": [
    {
     "data": {
      "text/plain": [
       "dict_keys(['CSAFP', 'CBSAFP', 'GEOID', 'NAME', 'NAMELSAD', 'LSAD', 'MEMI', 'MTFCC', 'ALAND', 'AWATER', 'INTPTLAT', 'INTPTLON'])"
      ]
     },
     "execution_count": 155,
     "metadata": {},
     "output_type": "execute_result"
    }
   ],
   "source": [
    "topoJSON['features'][0]['properties'].keys()"
   ]
  },
  {
   "cell_type": "code",
   "execution_count": null,
   "metadata": {},
   "outputs": [],
   "source": []
  },
  {
   "cell_type": "code",
   "execution_count": null,
   "metadata": {},
   "outputs": [],
   "source": []
  },
  {
   "cell_type": "code",
   "execution_count": 93,
   "metadata": {},
   "outputs": [],
   "source": [
    "# topo_features = topoJSON['objects']['tx_counties']['geometries']\n",
    "# scale = topoJSON['transform']['scale']\n",
    "# translation = topoJSON['transform']['translate']"
   ]
  },
  {
   "cell_type": "code",
   "execution_count": 20,
   "metadata": {},
   "outputs": [
    {
     "ename": "TypeError",
     "evalue": "unhashable type: 'dict'",
     "output_type": "error",
     "traceback": [
      "\u001b[0;31m---------------------------------------------------------------------------\u001b[0m",
      "\u001b[0;31mTypeError\u001b[0m                                 Traceback (most recent call last)",
      "\u001b[0;32m<ipython-input-20-c60c9c869d76>\u001b[0m in \u001b[0;36m<module>\u001b[0;34m\u001b[0m\n\u001b[1;32m      1\u001b[0m \u001b[0mmy_dict\u001b[0m\u001b[0;34m=\u001b[0m \u001b[0;34m{\u001b[0m\u001b[0;34m'1'\u001b[0m\u001b[0;34m:\u001b[0m\u001b[0;34m'a'\u001b[0m\u001b[0;34m,\u001b[0m\u001b[0;34m'2'\u001b[0m\u001b[0;34m:\u001b[0m\u001b[0;34m'b'\u001b[0m\u001b[0;34m}\u001b[0m\u001b[0;34m\u001b[0m\u001b[0;34m\u001b[0m\u001b[0m\n\u001b[0;32m----> 2\u001b[0;31m \u001b[0mmy_dict\u001b[0m\u001b[0;34m.\u001b[0m\u001b[0mupdate\u001b[0m\u001b[0;34m(\u001b[0m\u001b[0;34m{\u001b[0m\u001b[0;34m{\u001b[0m\u001b[0;34m'3'\u001b[0m\u001b[0;34m:\u001b[0m\u001b[0;34m'c'\u001b[0m\u001b[0;34m}\u001b[0m\u001b[0;34m}\u001b[0m\u001b[0;34m)\u001b[0m\u001b[0;34m\u001b[0m\u001b[0;34m\u001b[0m\u001b[0m\n\u001b[0m\u001b[1;32m      3\u001b[0m \u001b[0mmy_dict\u001b[0m\u001b[0;34m\u001b[0m\u001b[0;34m\u001b[0m\u001b[0m\n",
      "\u001b[0;31mTypeError\u001b[0m: unhashable type: 'dict'"
     ]
    }
   ],
   "source": [
    "my_dict= {'1':'a','2':'b'\n",
    "my_dict"
   ]
  },
  {
   "cell_type": "markdown",
   "metadata": {},
   "source": [
    "Define the coresponding geojson dict:"
   ]
  },
  {
   "cell_type": "code",
   "execution_count": 94,
   "metadata": {},
   "outputs": [],
   "source": [
    "# geoJSON=dict(type= 'FeatureCollection', \n",
    "#              features = [])\n",
    "\n",
    "# for k, tfeature in enumerate(topo_features):\n",
    "#     geo_feature = dict(id=k, type= \"Feature\")\n",
    "#     geo_feature['properties'] = tfeature['properties']\n",
    "#     geo_feature['id']=tfeature['id']\n",
    "#     geo_feature['geometry'] = topojson.geometry(tfeature, topoJSON['arcs'], scale, translation)    \n",
    "#     geoJSON['features'].append(geo_feature)  "
   ]
  },
  {
   "cell_type": "code",
   "execution_count": null,
   "metadata": {},
   "outputs": [],
   "source": [
    "# var somedata = {\n",
    "#    \"Pizza\" : [\"Cheese\", \"Bread\", \"Sauce\"],\n",
    "#    \"Spaghetti\" : [\"Pasta\", \"Sauce\", \"Meatballs\"]\n",
    "# }\n",
    "\n",
    "# Object.keys(somedata)       // returns  [\"Pizza\", \"Spaghetti\"]\n",
    "# Object.keys(somedata)[0]   // returns  \"Pizza\"\n",
    "# Object.keys(somedata)[1]   // returns \"Spaghetti\"\n",
    "\n",
    "# somedata[\"Pizza\"]    // returns [\"Cheese\", \"Bread\", \"Sauce\"]\n",
    "# somedata[\"Spaghetti\"]   // returns  [\"Pasta\", \"Sauce\", \"Meatballs\"]\n",
    "\n",
    "# //---------------\n",
    "# Object.values(somedata)        // returns  [Array(3), Array(3)]\n",
    "# Object.values(somedata)[0]    // returns [\"Cheese\", \"Bread\", \"Sauce\"]\n",
    "# Object.values(somedata)[1]    // returns [\"Pasta\", \"Sauce\", \"Meatballs\"]"
   ]
  },
  {
   "cell_type": "code",
   "execution_count": null,
   "metadata": {},
   "outputs": [],
   "source": []
  },
  {
   "cell_type": "markdown",
   "metadata": {},
   "source": [
    "Get the lon and lat of a central location for each county:"
   ]
  },
  {
   "cell_type": "code",
   "execution_count": 98,
   "metadata": {},
   "outputs": [],
   "source": [
    "# lons=[]\n",
    "# lats=[]\n",
    "# for k in range(len(geoJSON['features'])):\n",
    "#     county_coords=np.array(geoJSON['features'][k]['geometry']['coordinates'][0])\n",
    "#     m, M =county_coords[:,0].min(), county_coords[:,0].max()\n",
    "#     lons.append(0.5*(m+M))\n",
    "#     m, M =county_coords[:,1].min(), county_coords[:,1].max()\n",
    "#     lats.append(0.5*(m+M))"
   ]
  },
  {
   "cell_type": "code",
   "execution_count": 99,
   "metadata": {},
   "outputs": [],
   "source": [
    "counties=[geoJSON['features'][k]['properties']['id'] for k in range(len(geoJSON['features']))]\n",
    "tx_ids=[geoJSON['features'][k]['id'] for k in range(len(geoJSON['features']))]      "
   ]
  },
  {
   "cell_type": "markdown",
   "metadata": {},
   "source": [
    "Read the unemployment file, extracted for the Texas state from [that](https://gist.github.com/mbostock/4060606#file-unemployment-tsv) corresponding to whole US."
   ]
  },
  {
   "cell_type": "code",
   "execution_count": 166,
   "metadata": {},
   "outputs": [],
   "source": [
    "\n",
    "\n",
    "df=pd.read_clipboard()\n",
    "   "
   ]
  },
  {
   "cell_type": "code",
   "execution_count": null,
   "metadata": {},
   "outputs": [],
   "source": []
  },
  {
   "cell_type": "code",
   "execution_count": 167,
   "metadata": {},
   "outputs": [
    {
     "data": {
      "text/html": [
       "<div>\n",
       "<style scoped>\n",
       "    .dataframe tbody tr th:only-of-type {\n",
       "        vertical-align: middle;\n",
       "    }\n",
       "\n",
       "    .dataframe tbody tr th {\n",
       "        vertical-align: top;\n",
       "    }\n",
       "\n",
       "    .dataframe thead th {\n",
       "        text-align: right;\n",
       "    }\n",
       "</style>\n",
       "<table border=\"1\" class=\"dataframe\">\n",
       "  <thead>\n",
       "    <tr style=\"text-align: right;\">\n",
       "      <th></th>\n",
       "      <th>msa</th>\n",
       "      <th>prps_refi</th>\n",
       "    </tr>\n",
       "  </thead>\n",
       "  <tbody>\n",
       "    <tr>\n",
       "      <th>0</th>\n",
       "      <td>10180</td>\n",
       "      <td>2382</td>\n",
       "    </tr>\n",
       "    <tr>\n",
       "      <th>1</th>\n",
       "      <td>10380</td>\n",
       "      <td>1002</td>\n",
       "    </tr>\n",
       "    <tr>\n",
       "      <th>2</th>\n",
       "      <td>10420</td>\n",
       "      <td>14260</td>\n",
       "    </tr>\n",
       "    <tr>\n",
       "      <th>3</th>\n",
       "      <td>10500</td>\n",
       "      <td>2670</td>\n",
       "    </tr>\n",
       "    <tr>\n",
       "      <th>4</th>\n",
       "      <td>10540</td>\n",
       "      <td>3397</td>\n",
       "    </tr>\n",
       "  </tbody>\n",
       "</table>\n",
       "</div>"
      ],
      "text/plain": [
       "     msa  prps_refi\n",
       "0  10180       2382\n",
       "1  10380       1002\n",
       "2  10420      14260\n",
       "3  10500       2670\n",
       "4  10540       3397"
      ]
     },
     "execution_count": 167,
     "metadata": {},
     "output_type": "execute_result"
    }
   ],
   "source": [
    "\n",
    "df.head()"
   ]
  },
  {
   "cell_type": "code",
   "execution_count": 168,
   "metadata": {},
   "outputs": [],
   "source": [
    "df.index = df['msa']"
   ]
  },
  {
   "cell_type": "code",
   "execution_count": 1,
   "metadata": {},
   "outputs": [
    {
     "ename": "NameError",
     "evalue": "name 'cbsa_ids' is not defined",
     "output_type": "error",
     "traceback": [
      "\u001b[0;31m---------------------------------------------------------------------------\u001b[0m",
      "\u001b[0;31mNameError\u001b[0m                                 Traceback (most recent call last)",
      "\u001b[0;32m<ipython-input-1-b11a894024f8>\u001b[0m in \u001b[0;36m<module>\u001b[0;34m\u001b[0m\n\u001b[0;32m----> 1\u001b[0;31m \u001b[0mrate\u001b[0m\u001b[0;34m=\u001b[0m\u001b[0;34m[\u001b[0m\u001b[0mdf\u001b[0m\u001b[0;34m.\u001b[0m\u001b[0mloc\u001b[0m\u001b[0;34m[\u001b[0m\u001b[0mid\u001b[0m\u001b[0;34m,\u001b[0m \u001b[0;34m'rate'\u001b[0m\u001b[0;34m]\u001b[0m \u001b[0;32mfor\u001b[0m \u001b[0mid\u001b[0m \u001b[0;32min\u001b[0m \u001b[0mcbsa_ids\u001b[0m\u001b[0;34m]\u001b[0m\u001b[0;34m\u001b[0m\u001b[0;34m\u001b[0m\u001b[0m\n\u001b[0m\u001b[1;32m      2\u001b[0m \u001b[0mzmin\u001b[0m\u001b[0;34m=\u001b[0m\u001b[0mmin\u001b[0m\u001b[0;34m(\u001b[0m\u001b[0mrate\u001b[0m\u001b[0;34m)\u001b[0m\u001b[0;34m\u001b[0m\u001b[0;34m\u001b[0m\u001b[0m\n\u001b[1;32m      3\u001b[0m \u001b[0mzmax\u001b[0m\u001b[0;34m=\u001b[0m\u001b[0mmax\u001b[0m\u001b[0;34m(\u001b[0m\u001b[0mrate\u001b[0m\u001b[0;34m)\u001b[0m\u001b[0;34m\u001b[0m\u001b[0;34m\u001b[0m\u001b[0m\n",
      "\u001b[0;31mNameError\u001b[0m: name 'cbsa_ids' is not defined"
     ]
    }
   ],
   "source": [
    "rate=[df.loc[id, 'rate'] for id in txids]\n",
    "zmin=min(rate)\n",
    "zmax=max(rate)"
   ]
  },
  {
   "cell_type": "code",
   "execution_count": 103,
   "metadata": {},
   "outputs": [],
   "source": [
    "sources=[]\n",
    "for feat in geoJSON['features']: \n",
    "        sources.append({\"type\": \"FeatureCollection\", 'features': [feat]})"
   ]
  },
  {
   "cell_type": "markdown",
   "metadata": {},
   "source": [
    "Define a function that maps a value in the range [vmin, vmax] to the corresponding  color in a given colorscale:"
   ]
  },
  {
   "cell_type": "code",
   "execution_count": 104,
   "metadata": {},
   "outputs": [],
   "source": [
    "def get_color_for_val(val, vmin, vmax, pl_colorscale):\n",
    "    if vmin >= vmax:\n",
    "        raise ValueError('vmin should be < vmax')\n",
    "        \n",
    "    plotly_scale, plotly_colors = list(map(float, np.array(pl_colorscale)[:,0])), np.array(pl_colorscale)[:,1]  \n",
    "    colors_01=np.array(list(map(literal_eval,[color[3:] for color in plotly_colors] )))/255.#color codes in [0,1]\n",
    "    \n",
    "    v= (val - vmin) / float((vmax - vmin)) #here val is mapped to v in[0,1]\n",
    "    #find two consecutive values in plotly_scale such that   v belongs to the corresponding interval\n",
    "    idx = 0\n",
    "   \n",
    "    while(v > plotly_scale[idx+1]): \n",
    "        idx+=1\n",
    "    left_scale_val = plotly_scale[idx]\n",
    "    right_scale_val = plotly_scale[idx+ 1]\n",
    "    vv = (v - left_scale_val) / (right_scale_val - left_scale_val)##attn! this code works well if the plotly_scale is \n",
    "                                                              #sorted ascending, and there are no duplicates in\n",
    "                                                              # plotly_scale\n",
    "    #get the  [0,1]-valued color code representing the rgb color corresponding to val\n",
    "    val_color01 = colors_01[idx]+vv*(colors_01[idx + 1]-colors_01[idx])\n",
    "    val_color_0255 = list(map(np.uint8, 255*val_color01+0.5))\n",
    "    return 'rgb'+str(tuple(val_color_0255))"
   ]
  },
  {
   "cell_type": "markdown",
   "metadata": {},
   "source": [
    "The colorscale definition:"
   ]
  },
  {
   "cell_type": "code",
   "execution_count": 105,
   "metadata": {},
   "outputs": [],
   "source": [
    "pl_colorscale= [[0.0, 'rgb(255, 255, 204)'],\n",
    "                [0.35, 'rgb(161, 218, 180)'],\n",
    "                [0.5, 'rgb(65, 182, 196)'], \n",
    "                [0.6, 'rgb(44, 127, 184)'],\n",
    "                [0.7, 'rgb(8, 104, 172)'],\n",
    "                [1.0, 'rgb(37, 52, 148)']] "
   ]
  },
  {
   "cell_type": "markdown",
   "metadata": {},
   "source": [
    "Compute the color corresponding to each county, according to its unemployment rate:"
   ]
  },
  {
   "cell_type": "code",
   "execution_count": 106,
   "metadata": {},
   "outputs": [],
   "source": [
    "facecolor=[get_color_for_val(r, zmin, zmax, pl_colorscale)  for r in rate] "
   ]
  },
  {
   "cell_type": "code",
   "execution_count": 107,
   "metadata": {},
   "outputs": [],
   "source": [
    "text=[c+'<br>Unemployment rate: '+'{:0.2f}'.format(r)+'%' for c, r in zip(counties, rate)]"
   ]
  },
  {
   "cell_type": "code",
   "execution_count": 108,
   "metadata": {},
   "outputs": [],
   "source": [
    "USA = dict(type='scattermapbox',\n",
    "             lat=lats, \n",
    "             lon=lons,\n",
    "             mode='markers',\n",
    "             text=text,\n",
    "             marker=dict(size=1, color=facecolor),\n",
    "             showlegend=False,\n",
    "             hoverinfo='text'\n",
    "            )"
   ]
  },
  {
   "cell_type": "code",
   "execution_count": 109,
   "metadata": {},
   "outputs": [],
   "source": [
    "layers=[dict(sourcetype = 'geojson',\n",
    "             source =sources[k],\n",
    "             below=\"water\", \n",
    "             type = 'fill',   \n",
    "             color = facecolor[k],\n",
    "             opacity=0.8\n",
    "            ) for k in range(len(sources))]"
   ]
  },
  {
   "cell_type": "code",
   "execution_count": 110,
   "metadata": {},
   "outputs": [],
   "source": [
    "layout = dict(title='Mapbox Choropleth<br>Texas unemployment',\n",
    "              font=dict(family='Balto'),\n",
    "              autosize=False,\n",
    "              width=800,\n",
    "              height=800,\n",
    "              hovermode='closest',\n",
    "   \n",
    "              mapbox=dict(accesstoken=mapbox_access_token,\n",
    "                          layers=layers,\n",
    "                          bearing=0,\n",
    "                          center=dict(\n",
    "                          lat=31.4638, \n",
    "                          lon=-99.98),\n",
    "                          pitch=0,\n",
    "                          zoom=5,\n",
    "                    ) \n",
    "              )\n",
    "\n",
    "fig = dict(data=[Texas], layout=layout)"
   ]
  },
  {
   "cell_type": "code",
   "execution_count": 114,
   "metadata": {},
   "outputs": [
    {
     "data": {
      "text/html": [
       "<iframe id=\"igraph\" scrolling=\"no\" style=\"border:none;\" seamless=\"seamless\" src=\"https://plot.ly/~levitan.matt/14.embed\" height=\"800px\" width=\"800px\"></iframe>"
      ],
      "text/plain": [
       "<plotly.tools.PlotlyDisplay object>"
      ]
     },
     "execution_count": 114,
     "metadata": {},
     "output_type": "execute_result"
    }
   ],
   "source": [
    "import plotly.plotly as py\n",
    "py.sign_in('levitan.matt','ezbwoqyVCTSUpcY0pcLc')\n",
    "py.iplot(fig, filename='Texas-counties')"
   ]
  },
  {
   "cell_type": "code",
   "execution_count": null,
   "metadata": {},
   "outputs": [],
   "source": []
  },
  {
   "cell_type": "code",
   "execution_count": null,
   "metadata": {},
   "outputs": [],
   "source": [
    "import plotly.graph_objs as go\n",
    "fw=go.FigureWidget(fig)\n",
    "fw"
   ]
  },
  {
   "cell_type": "code",
   "execution_count": null,
   "metadata": {},
   "outputs": [],
   "source": []
  },
  {
   "cell_type": "code",
   "execution_count": null,
   "metadata": {},
   "outputs": [],
   "source": []
  }
 ],
 "metadata": {
  "kernelspec": {
   "display_name": "Python 3",
   "language": "python",
   "name": "python3"
  },
  "language_info": {
   "codemirror_mode": {
    "name": "ipython",
    "version": 3
   },
   "file_extension": ".py",
   "mimetype": "text/x-python",
   "name": "python",
   "nbconvert_exporter": "python",
   "pygments_lexer": "ipython3",
   "version": "3.7.1"
  }
 },
 "nbformat": 4,
 "nbformat_minor": 2
}
