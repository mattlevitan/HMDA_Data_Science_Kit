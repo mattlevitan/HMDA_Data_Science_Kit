{
 "cells": [
  {
   "cell_type": "markdown",
   "metadata": {},
   "source": [
    "# Plotting a Time Series of HMDA Filers by Category"
   ]
  },
  {
   "cell_type": "markdown",
   "metadata": {},
   "source": [
    "### Scope of Notebook\n",
    "This notebook will build on the [previous analysis example](https://github.com/cfpb/HMDA_Data_Science_Kit/blob/master/analysis_examples/1.%20Plotting%20a%20Time%20Series%20of%20HMDA%20Filers%20from%202004-2017.ipynb) of counting the number of institutions that have filed HMDA data from 2004-2017, by demonstrating how to filter counts by a particular category. The code below will focus on counts taken from the Transmittal Sheet dataset inside the HMDA collections.\n",
    "\n",
    "The example will show how to pull Transmittal Sheet data from a local Postgres database, filter by a particular category, write the data to a pipe-delimited text file, and produce a graph in the Jupyter notebook as well as save the graph to a .png file.\n",
    "\n",
    "Additionally, more advanced methods using functions will be shown as an introduction to a library of functions that can be used to interact with the HMDA data.\n",
    "\n",
    "While these examples provide some commentary on the use of SQL and Python, they should not be considered a replacement for more full fledged tutorials on how to use these tools. \n",
    "\n",
    "### Setup Requirements\n",
    "In order to run this example locally several software packages need to be installed and configured. \n",
    "Please see [these instructions](https://github.com/Kibrael/HMDA_Data_Science_Kit#creating-postgres-tables-and-loading-data) to get a local Postgres database set up and populated with HMDA data. \n",
    "Please see [these instructions](https://github.com/Kibrael/HMDA_Data_Science_Kit#requirements) for setting up a Python development environment. Python 3.5 or higher is required as well as several libraries.\n",
    "\n",
    "\n",
    "### Python Libraries Used\n",
    "- [Pandas](https://pandas.pydata.org/pandas-docs/stable/): a data manipulation and analysis package.\n",
    "- [Psycopg2](http://initd.org/psycopg/docs/): a database driver library providing APIs for connecting Python to Postgres.\n",
    "- [Matplotlib](https://matplotlib.org/): a library to enable inline plotting with Pandas and Jupyter notebooks.\n",
    "- [Jupyter](http://jupyter.org/documentation): a development tool that supports multiple formats for display such as Markdown and Python. Allows segmentation of code into cells for easy data manipulation trials.\n",
    "\n",
    "### Approach\n",
    "This notebook will leverage Postgres SQL as a data store and aggregation tool. Python will be used to interact with the database through the Psycopg2 library. The Pandas library will be used for data handling after pulling from Postgres. This includes cleaning, analysis, and visualization with the Matplotlib library (which integrates with Pandas).\n",
    "\n",
    "The procss for this analysis will be:\n",
    "- Establish a connection to the database using psycopg2\n",
    "- Call a SQL file through Python to pull Transmittal Sheet counts by year\n",
    "- Filter by a particular category\n",
    "- Load the data into a Pandas dataframe\n",
    "- Graph the data in the Jupyter notebook and save the graph to a .PNG file"
   ]
  },
  {
   "cell_type": "markdown",
   "metadata": {},
   "source": [
    "## Import Python Libraries"
   ]
  },
  {
   "cell_type": "code",
   "execution_count": 2,
   "metadata": {},
   "outputs": [],
   "source": [
    "import psycopg2 #Imports the Psycopg2 library\n",
    "import pandas as pd #Imports the Pandas library and renames it \"pd\"\n",
    "import matplotlib.pyplot as plt #imports the Matplot library and renames it \"plt\""
   ]
  },
  {
   "cell_type": "markdown",
   "metadata": {},
   "source": [
    "### Connect to the Database\n",
    "The connection to the database, which was demonstrated in the [previous example](https://github.com/cfpb/HMDA_Data_Science_Kit/blob/master/analysis_examples/1.%20Plotting%20a%20Time%20Series%20of%20HMDA%20Filers%20from%202004-2017.ipynb), will use a locally hosted database and the hmda database created during initial setup. Please see Analysis Example 1 for further details on connecting using a locally hosted database. "
   ]
  },
  {
   "cell_type": "code",
   "execution_count": 3,
   "metadata": {},
   "outputs": [],
   "source": [
    "#Establish connection parameters\n",
    "#If you have established a username and password, change user and password below to your own username and password.\n",
    "connection_params = {\"user\":\"postgres\", \n",
    "                     \"password\":\"helloworld\", \n",
    "                     \"dbname\":\"hmda\", \n",
    "                     \"host\":\"localhost\",\n",
    "                     \"port\" : \"5433\"}"
   ]
  },
  {
   "cell_type": "code",
   "execution_count": 4,
   "metadata": {},
   "outputs": [],
   "source": [
    "def connect(params):\n",
    "    \"\"\"\n",
    "    This function accepts a dictionary of connection parameters that must include:\n",
    "    - user: the username to be used for the database session\n",
    "    - password: the user's password\n",
    "    - dbname: the name of the database for connection\n",
    "    - host: the host location of the database\n",
    "    \"\"\"\n",
    "    #attempt a connection with the supplied parameters\n",
    "    try:\n",
    "        conn = psycopg2.connect(**params)\n",
    "        print(\"I'm connected\") #print a success message\n",
    "        return conn.cursor() #return a cursor object\n",
    "    except psycopg2.Error as e: \n",
    "        print(\"I am unable to connect to the database: \", e) #print a fail message and the error, if any"
   ]
  },
  {
   "cell_type": "code",
   "execution_count": 5,
   "metadata": {},
   "outputs": [
    {
     "name": "stdout",
     "output_type": "stream",
     "text": [
      "I'm connected\n"
     ]
    }
   ],
   "source": [
    "#Test the connection function, if everything is correct, it will print \"I'm connected.\"\n",
    "cur = connect(params=connection_params)\n",
    "#Close the cursor. This is important as open cursors can interfere with updates to data tables.\n",
    "cur.close()\n",
    "\n",
    "#When using Jupyter, it is best to open and close the cursor in the same code cell. \n",
    "#If there are coding errors that interrupt the execution, the cursor will need to be reestablished. \n"
   ]
  },
  {
   "cell_type": "markdown",
   "metadata": {},
   "source": [
    "### Variabalizing a SQL Command String for Filtering\n",
    "As demonstrated in the previous example, Python strings can contain markers which enable substitution of values. This allows use of the .format() command to change the table reference for the SQL query. The string below selects the activity year and the filer count, variabalizing the year.   "
   ]
  },
  {
   "cell_type": "code",
   "execution_count": 11,
   "metadata": {},
   "outputs": [],
   "source": [
    "sql_command = \"\"\"SELECT \n",
    "                    activity_year, \n",
    "                    COUNT (*) AS filer_count\n",
    "                 FROM \n",
    "                    hmda_public.ts_{year} \n",
    "                 GROUP BY \n",
    "                    activity_year;\"\"\""
   ]
  },
  {
   "cell_type": "markdown",
   "metadata": {},
   "source": [
    "A SQL command string may be modified to select a count of filers by a given category. The command string below not only variabalizes the year of the file to be selected but also creates an extention to the query that may be modified by the user.  "
   ]
  },
  {
   "cell_type": "code",
   "execution_count": 6,
   "metadata": {},
   "outputs": [],
   "source": [
    "sql_base = \"\"\"SELECT CONCAT(lar_{year}.state_code,lar_{year}.county_code) AS fips,\n",
    "           count(case when lar_{year}.loan_purpose = '1' then 1 else null end) as prps_prch,\n",
    "           count(case when lar_{year}.loan_purpose = '2' then 1 else null end) as prps_impr,\n",
    "           count(case when lar_{year}.loan_purpose = '3' then 1 else null end) as prps_refi\n",
    "            FROM lar_{year} {extention}\n",
    "            ;\"\"\""
   ]
  },
  {
   "cell_type": "code",
   "execution_count": 7,
   "metadata": {},
   "outputs": [],
   "source": [
    "extention = \"GROUP BY state_code,county_code\"\n",
    " "
   ]
  },
  {
   "cell_type": "code",
   "execution_count": null,
   "metadata": {},
   "outputs": [],
   "source": []
  },
  {
   "cell_type": "markdown",
   "metadata": {},
   "source": [
    "### Selecting the Number of Filers by a Particular State\n",
    "The code above may be placed in another sql file, which may be called by the the time series function defined in the previous example. The code below may be used to select for the number of filers who have their headquarters in New York. Respondent_state refers to the headquarters location of the institution and does not necessarily reflect lending patterns in that geography."
   ]
  },
  {
   "cell_type": "code",
   "execution_count": null,
   "metadata": {},
   "outputs": [
    {
     "name": "stdout",
     "output_type": "stream",
     "text": [
      "I'm connected\n",
      "SELECT CONCAT(lar_2016.state_code,lar_2016.county_code) AS fips,\n",
      "           count(case when lar_2016.loan_purpose = '1' then 1 else null end) as prps_prch,\n",
      "           count(case when lar_2016.loan_purpose = '2' then 1 else null end) as prps_impr,\n",
      "           count(case when lar_2016.loan_purpose = '3' then 1 else null end) as prps_refi\n",
      "            FROM lar_2016 GROUP BY state_code,county_code\n",
      "            ;\n"
     ]
    }
   ],
   "source": [
    "cur = connect(connection_params) #Establishes cursor object and connect to the database\n",
    "year = 2016\n",
    "\n",
    "#Provides the year of the file \n",
    "\n",
    "#Sets the extention variable so that it selects filers in the state of New York\n",
    "print(sql_base.format(year=year, extention=extention))\n",
    " \n",
    "#Executes the query text against the database, formatting for the year and the extention\n",
    "cur.execute(sql_base.format(year=year, extention=extention))\n",
    "results = cur.fetchall() #Returns the query results.\n",
    "#print(results)\n",
    "print(cur.description)\n",
    "#Converts the results_list into a Pandas dataframe with names pulled from the SQL query.\n",
    "results_df = pd.DataFrame(results, columns=[desc[0] for desc in cur.description])\n",
    "cur.close() #Closes the connection and remove the cursor object.\n",
    "#results_df.head() #Shows the top 5 rows of the dataframe"
   ]
  },
  {
   "cell_type": "code",
   "execution_count": 28,
   "metadata": {},
   "outputs": [
    {
     "name": "stdout",
     "output_type": "stream",
     "text": [
      "I'm connected\n"
     ]
    },
    {
     "ename": "ProgrammingError",
     "evalue": "column \"respondent_state\" does not exist\nLINE 5: ...           FROM lar_2005  GROUP BY activity_year, respondent...\n                                                             ^\n",
     "output_type": "error",
     "traceback": [
      "\u001b[0;31m---------------------------------------------------------------------------\u001b[0m",
      "\u001b[0;31mProgrammingError\u001b[0m                          Traceback (most recent call last)",
      "\u001b[0;32m<ipython-input-28-6e2e2e52e521>\u001b[0m in \u001b[0;36m<module>\u001b[0;34m\u001b[0m\n\u001b[1;32m      8\u001b[0m \u001b[0;34m\u001b[0m\u001b[0m\n\u001b[1;32m      9\u001b[0m \u001b[0;31m#Executes the query text against the database, formatting for the year and the extention\u001b[0m\u001b[0;34m\u001b[0m\u001b[0;34m\u001b[0m\u001b[0;34m\u001b[0m\u001b[0m\n\u001b[0;32m---> 10\u001b[0;31m \u001b[0mcur\u001b[0m\u001b[0;34m.\u001b[0m\u001b[0mexecute\u001b[0m\u001b[0;34m(\u001b[0m\u001b[0msql_base\u001b[0m\u001b[0;34m.\u001b[0m\u001b[0mformat\u001b[0m\u001b[0;34m(\u001b[0m\u001b[0myear\u001b[0m\u001b[0;34m=\u001b[0m\u001b[0myear\u001b[0m\u001b[0;34m,\u001b[0m \u001b[0mextention\u001b[0m\u001b[0;34m=\u001b[0m\u001b[0mextention\u001b[0m\u001b[0;34m)\u001b[0m\u001b[0;34m)\u001b[0m\u001b[0;34m\u001b[0m\u001b[0;34m\u001b[0m\u001b[0m\n\u001b[0m\u001b[1;32m     11\u001b[0m \u001b[0mresults\u001b[0m \u001b[0;34m=\u001b[0m \u001b[0mcur\u001b[0m\u001b[0;34m.\u001b[0m\u001b[0mfetchall\u001b[0m\u001b[0;34m(\u001b[0m\u001b[0;34m)\u001b[0m \u001b[0;31m#Returns the query results.\u001b[0m\u001b[0;34m\u001b[0m\u001b[0;34m\u001b[0m\u001b[0m\n\u001b[1;32m     12\u001b[0m \u001b[0mprint\u001b[0m\u001b[0;34m(\u001b[0m\u001b[0mresults\u001b[0m\u001b[0;34m)\u001b[0m\u001b[0;34m\u001b[0m\u001b[0;34m\u001b[0m\u001b[0m\n",
      "\u001b[0;31mProgrammingError\u001b[0m: column \"respondent_state\" does not exist\nLINE 5: ...           FROM lar_2005  GROUP BY activity_year, respondent...\n                                                             ^\n"
     ]
    }
   ],
   "source": [
    "cur = connect(connection_params) #Establishes cursor object and connect to the database\n",
    "year = 2005\n",
    "\n",
    "#Provides the year of the file \n",
    "\n",
    "#Sets the extention variable so that it selects filers in the state of New York\n",
    "extention = \" GROUP BY activity_year, respondent_state\"\n",
    " \n",
    "#Executes the query text against the database, formatting for the year and the extention\n",
    "cur.execute(sql_base.format(year=year, extention=extention))\n",
    "results = cur.fetchall() #Returns the query results.\n",
    "print(results)\n",
    "\n",
    "#Converts the results_list into a Pandas dataframe with names pulled from the SQL query.\n",
    "results_df = pd.DataFrame(results, columns=[desc[0] for desc in cur.description])\n",
    "cur.close() #Closes the connection and remove the cursor object.\n",
    "#results_df.head() #Shows the top 5 rows of the dataframe"
   ]
  },
  {
   "cell_type": "code",
   "execution_count": 14,
   "metadata": {},
   "outputs": [
    {
     "name": "stdout",
     "output_type": "stream",
     "text": [
      "I'm connected\n",
      "[('2006', 'DE', 26), ('2006', 'HI', 25), ('2006', 'MA', 299), ('2006', 'KS', 152), ('2006', 'ME', 58), ('2006', 'AL', 154), ('2006', 'SC', 96), ('2006', 'NC', 160), ('2006', 'OR', 75), ('2006', 'WV', 57), ('2006', 'OH', 370), ('2006', 'TN', 171), ('2006', 'NV', 38), ('2006', 'MD', 195), ('2006', 'MI', 339), ('2006', 'WY', 16), ('2006', 'AK', 14), ('2006', 'IN', 199), ('2006', 'NJ', 221), ('2006', 'GA', 294), ('2006', 'NE', 76), ('2006', 'WI', 267), ('2006', 'NH', 28), ('2006', 'PR', 67), ('2006', 'VA', 209), ('2006', 'AZ', 94), ('2006', 'OK', 149), ('2006', 'MN', 421), ('2006', 'WA', 165), ('2006', 'ID', 35), ('2006', 'AR', 100), ('2006', 'FL', 454), ('2006', 'MS', 70), ('2006', 'IA', 231), ('2006', 'MT', 32), ('2006', 'TX', 602), ('2006', 'IL', 505), ('2006', 'UT', 89), ('2006', 'SD', 39), ('2006', 'CA', 715), ('2006', 'NM', 42), ('2006', 'CO', 182), ('2006', 'ND', 31), ('2006', 'LA', 155), ('2006', 'PA', 342), ('2006', 'VT', 14), ('2006', 'KY', 127), ('2006', 'DC', 22), ('2006', 'CT', 82), ('2006', 'RI', 30), ('2006', 'MO', 242), ('2006', 'NY', 326)]\n"
     ]
    }
   ],
   "source": [
    "cur = connect(connection_params) #Establishes cursor object and connect to the database\n",
    "year = 2006\n",
    "\n",
    "#Provides the year of the file \n",
    "\n",
    "#Sets the extention variable so that it selects filers in the state of New York\n",
    "extention = \" GROUP BY activity_year, respondent_state\"\n",
    " \n",
    "#Executes the query text against the database, formatting for the year and the extention\n",
    "cur.execute(sql_base.format(year=year, extention=extention))\n",
    "results = cur.fetchall() #Returns the query results.\n",
    "print(results)\n",
    "\n",
    "#Converts the results_list into a Pandas dataframe with names pulled from the SQL query.\n",
    "results_df = pd.DataFrame(results, columns=[desc[0] for desc in cur.description])\n",
    "cur.close() #Closes the connection and remove the cursor object.\n",
    "#results_df.head() #Shows the top 5 rows of the dataframe"
   ]
  },
  {
   "cell_type": "code",
   "execution_count": 15,
   "metadata": {},
   "outputs": [
    {
     "name": "stdout",
     "output_type": "stream",
     "text": [
      "I'm connected\n",
      "[('<nos', '', 1), ('  </', '', 3), ('</bo', '', 1), ('</ht', '', 1), ('</di', '', 1), ('    ', '', 27), ('  <!', '', 13), ('  })', '', 1), ('<hea', '', 1), ('<!--', '> ', 2), ('  <m', '', 5), ('', '', 7), ('<htm', '', 1), ('  }', '', 1), ('<div', '', 2), ('  <d', 'ab', 1), ('  <l', '', 5), ('  <s', '', 8), ('  <t', '', 1), ('<![e', '', 1), ('<!--', '', 4), ('<scr', '', 7), ('  <d', '', 3), ('  if', '', 1), ('<bod', '', 1), ('<!do', '', 1), ('</sc', '', 1), ('</he', '', 1)]\n"
     ]
    }
   ],
   "source": [
    "cur = connect(connection_params) #Establishes cursor object and connect to the database\n",
    "year = 2007\n",
    "\n",
    "#Provides the year of the file \n",
    "\n",
    "#Sets the extention variable so that it selects filers in the state of New York\n",
    "extention = \" GROUP BY activity_year, respondent_state\"\n",
    " \n",
    "#Executes the query text against the database, formatting for the year and the extention\n",
    "cur.execute(sql_base.format(year=year, extention=extention))\n",
    "results = cur.fetchall() #Returns the query results.\n",
    "print(results)\n",
    "\n",
    "#Converts the results_list into a Pandas dataframe with names pulled from the SQL query.\n",
    "results_df = pd.DataFrame(results, columns=[desc[0] for desc in cur.description])\n",
    "cur.close() #Closes the connection and remove the cursor object.\n",
    "#results_df.head() #Shows the top 5 rows of the dataframe"
   ]
  },
  {
   "cell_type": "code",
   "execution_count": 16,
   "metadata": {},
   "outputs": [
    {
     "name": "stdout",
     "output_type": "stream",
     "text": [
      "I'm connected\n",
      "[('<nos', '', 1), ('  </', '', 3), ('</bo', '', 1), ('</ht', '', 1), ('</di', '', 1), ('    ', '', 27), ('  <!', '', 13), ('  })', '', 1), ('<hea', '', 1), ('<!--', '> ', 2), ('  <m', '', 5), ('', '', 7), ('<htm', '', 1), ('  }', '', 1), ('<div', '', 2), ('  <d', 'ab', 1), ('  <l', '', 5), ('  <s', '', 8), ('  <t', '', 1), ('<![e', '', 1), ('<!--', '', 4), ('<scr', '', 7), ('  <d', '', 3), ('  if', '', 1), ('<bod', '', 1), ('<!do', '', 1), ('</sc', '', 1), ('</he', '', 1)]\n"
     ]
    }
   ],
   "source": [
    "cur = connect(connection_params) #Establishes cursor object and connect to the database\n",
    "year = 2008\n",
    "\n",
    "#Provides the year of the file \n",
    "\n",
    "#Sets the extention variable so that it selects filers in the state of New York\n",
    "extention = \" GROUP BY activity_year, respondent_state\"\n",
    " \n",
    "#Executes the query text against the database, formatting for the year and the extention\n",
    "cur.execute(sql_base.format(year=year, extention=extention))\n",
    "results = cur.fetchall() #Returns the query results.\n",
    "print(results)\n",
    "\n",
    "#Converts the results_list into a Pandas dataframe with names pulled from the SQL query.\n",
    "results_df = pd.DataFrame(results, columns=[desc[0] for desc in cur.description])\n",
    "cur.close() #Closes the connection and remove the cursor object.\n",
    "#results_df.head() #Shows the top 5 rows of the dataframe"
   ]
  },
  {
   "cell_type": "code",
   "execution_count": 17,
   "metadata": {},
   "outputs": [
    {
     "name": "stdout",
     "output_type": "stream",
     "text": [
      "I'm connected\n",
      "[('<nos', '', 1), ('  </', '', 3), ('</bo', '', 1), ('</ht', '', 1), ('</di', '', 1), ('    ', '', 27), ('  <!', '', 13), ('  })', '', 1), ('<hea', '', 1), ('<!--', '> ', 2), ('  <m', '', 5), ('', '', 7), ('<htm', '', 1), ('  }', '', 1), ('<div', '', 2), ('  <d', 'ab', 1), ('  <l', '', 5), ('  <s', '', 8), ('  <t', '', 1), ('<![e', '', 1), ('<!--', '', 4), ('<scr', '', 7), ('  <d', '', 3), ('  if', '', 1), ('<bod', '', 1), ('<!do', '', 1), ('</sc', '', 1), ('</he', '', 1)]\n"
     ]
    }
   ],
   "source": [
    "cur = connect(connection_params) #Establishes cursor object and connect to the database\n",
    "year = 2009\n",
    "\n",
    "#Provides the year of the file \n",
    "\n",
    "#Sets the extention variable so that it selects filers in the state of New York\n",
    "extention = \" GROUP BY activity_year, respondent_state\"\n",
    " \n",
    "#Executes the query text against the database, formatting for the year and the extention\n",
    "cur.execute(sql_base.format(year=year, extention=extention))\n",
    "results = cur.fetchall() #Returns the query results.\n",
    "print(results)\n",
    "\n",
    "#Converts the results_list into a Pandas dataframe with names pulled from the SQL query.\n",
    "results_df = pd.DataFrame(results, columns=[desc[0] for desc in cur.description])\n",
    "cur.close() #Closes the connection and remove the cursor object.\n",
    "#results_df.head() #Shows the top 5 rows of the dataframe"
   ]
  },
  {
   "cell_type": "code",
   "execution_count": 18,
   "metadata": {},
   "outputs": [
    {
     "name": "stdout",
     "output_type": "stream",
     "text": [
      "I'm connected\n",
      "[('2010', 'MO', 249), ('2010', 'CO', 160), ('2010', 'KY', 118), ('2010', 'SC', 98), ('2010', 'NC', 264), ('2010', 'NE', 81), ('2010', 'NM', 42), ('2010', 'NY', 287), ('2010', 'WV', 57), ('2010', 'IL', 476), ('2010', 'ND', 38), ('2010', 'KS', 154), ('2010', 'SD', 41), ('2010', 'MD', 152), ('2010', 'IN', 178), ('2010', 'UT', 71), ('2010', 'AR', 104), ('2010', 'MI', 260), ('2010', 'CA', 514), ('2010', 'IA', 175), ('2010', 'TX', 624), ('2010', 'MN', 234), ('2010', 'ID', 34), ('2010', 'AL', 153), ('2010', 'TN', 189), ('2010', 'NV', 26), ('2010', 'VA', 184), ('2010', 'VT', 12), ('2010', 'MS', 68), ('2010', 'OK', 149), ('2010', 'WA', 148), ('2010', 'DC', 13), ('2010', 'AZ', 71), ('2010', 'LA', 158), ('2010', 'MA', 269), ('2010', 'FL', 341), ('2010', 'WY', 22), ('2010', 'PR', 78), ('2010', 'DE', 22), ('2010', 'OR', 72), ('2010', 'OH', 281), ('2010', 'MT', 33), ('2010', 'NJ', 202), ('2010', 'WI', 256), ('2010', 'RI', 28), ('2010', 'AK', 13), ('2010', 'CT', 84), ('2010', 'HI', 31), ('2010', 'PA', 319), ('2010', 'ME', 52), ('2010', 'NH', 27), ('2010', 'GA', 240)]\n"
     ]
    }
   ],
   "source": [
    "cur = connect(connection_params) #Establishes cursor object and connect to the database\n",
    "year = 2010\n",
    "\n",
    "#Provides the year of the file \n",
    "\n",
    "#Sets the extention variable so that it selects filers in the state of New York\n",
    "extention = \" GROUP BY activity_year, respondent_state\"\n",
    " \n",
    "#Executes the query text against the database, formatting for the year and the extention\n",
    "cur.execute(sql_base.format(year=year, extention=extention))\n",
    "results = cur.fetchall() #Returns the query results.\n",
    "print(results)\n",
    "\n",
    "#Converts the results_list into a Pandas dataframe with names pulled from the SQL query.\n",
    "results_df = pd.DataFrame(results, columns=[desc[0] for desc in cur.description])\n",
    "cur.close() #Closes the connection and remove the cursor object.\n",
    "#results_df.head() #Shows the top 5 rows of the dataframe"
   ]
  },
  {
   "cell_type": "code",
   "execution_count": 19,
   "metadata": {},
   "outputs": [
    {
     "name": "stdout",
     "output_type": "stream",
     "text": [
      "I'm connected\n",
      "[('<nos', '', 1), ('  </', '', 3), ('</bo', '', 1), ('</ht', '', 1), ('</di', '', 1), ('    ', '', 27), ('  <!', '', 13), ('  })', '', 1), ('<hea', '', 1), ('<!--', '> ', 2), ('  <m', '', 5), ('', '', 7), ('<htm', '', 1), ('  }', '', 1), ('<div', '', 2), ('  <d', 'ab', 1), ('  <l', '', 5), ('  <s', '', 8), ('  <t', '', 1), ('<![e', '', 1), ('<!--', '', 4), ('<scr', '', 7), ('  <d', '', 3), ('  if', '', 1), ('<bod', '', 1), ('<!do', '', 1), ('</sc', '', 1), ('</he', '', 1)]\n"
     ]
    },
    {
     "data": {
      "text/html": [
       "<div>\n",
       "<style scoped>\n",
       "    .dataframe tbody tr th:only-of-type {\n",
       "        vertical-align: middle;\n",
       "    }\n",
       "\n",
       "    .dataframe tbody tr th {\n",
       "        vertical-align: top;\n",
       "    }\n",
       "\n",
       "    .dataframe thead th {\n",
       "        text-align: right;\n",
       "    }\n",
       "</style>\n",
       "<table border=\"1\" class=\"dataframe\">\n",
       "  <thead>\n",
       "    <tr style=\"text-align: right;\">\n",
       "      <th></th>\n",
       "      <th>activity_year</th>\n",
       "      <th>respondent_state</th>\n",
       "      <th>filer_count</th>\n",
       "    </tr>\n",
       "  </thead>\n",
       "  <tbody>\n",
       "    <tr>\n",
       "      <th>0</th>\n",
       "      <td>&lt;nos</td>\n",
       "      <td></td>\n",
       "      <td>1</td>\n",
       "    </tr>\n",
       "    <tr>\n",
       "      <th>1</th>\n",
       "      <td>&lt;/</td>\n",
       "      <td></td>\n",
       "      <td>3</td>\n",
       "    </tr>\n",
       "    <tr>\n",
       "      <th>2</th>\n",
       "      <td>&lt;/bo</td>\n",
       "      <td></td>\n",
       "      <td>1</td>\n",
       "    </tr>\n",
       "    <tr>\n",
       "      <th>3</th>\n",
       "      <td>&lt;/ht</td>\n",
       "      <td></td>\n",
       "      <td>1</td>\n",
       "    </tr>\n",
       "    <tr>\n",
       "      <th>4</th>\n",
       "      <td>&lt;/di</td>\n",
       "      <td></td>\n",
       "      <td>1</td>\n",
       "    </tr>\n",
       "  </tbody>\n",
       "</table>\n",
       "</div>"
      ],
      "text/plain": [
       "  activity_year respondent_state  filer_count\n",
       "0          <nos                             1\n",
       "1            </                             3\n",
       "2          </bo                             1\n",
       "3          </ht                             1\n",
       "4          </di                             1"
      ]
     },
     "execution_count": 19,
     "metadata": {},
     "output_type": "execute_result"
    }
   ],
   "source": [
    "cur = connect(connection_params) #Establishes cursor object and connect to the database\n",
    "year = 2011\n",
    "\n",
    "#Provides the year of the file \n",
    "\n",
    "#Sets the extention variable so that it selects filers in the state of New York\n",
    "extention = \" GROUP BY activity_year, respondent_state\"\n",
    " \n",
    "#Executes the query text against the database, formatting for the year and the extention\n",
    "cur.execute(sql_base.format(year=year, extention=extention))\n",
    "results = cur.fetchall() #Returns the query results.\n",
    "print(results)\n",
    "\n",
    "#Converts the results_list into a Pandas dataframe with names pulled from the SQL query.\n",
    "results_df = pd.DataFrame(results, columns=[desc[0] for desc in cur.description])\n",
    "cur.close() #Closes the connection and remove the cursor object.\n",
    "results_df.head() #Shows the top 5 rows of the dataframe"
   ]
  },
  {
   "cell_type": "code",
   "execution_count": 20,
   "metadata": {},
   "outputs": [
    {
     "name": "stdout",
     "output_type": "stream",
     "text": [
      "I'm connected\n",
      "[('<nos', '', 1), ('  </', '', 3), ('</bo', '', 1), ('</ht', '', 1), ('</di', '', 1), ('    ', '', 27), ('  <!', '', 13), ('  })', '', 1), ('<hea', '', 1), ('<!--', '> ', 2), ('  <m', '', 5), ('', '', 7), ('<htm', '', 1), ('  }', '', 1), ('<div', '', 2), ('  <d', 'ab', 1), ('  <l', '', 5), ('  <s', '', 8), ('  <t', '', 1), ('<![e', '', 1), ('<!--', '', 4), ('<scr', '', 7), ('  <d', '', 3), ('  if', '', 1), ('<bod', '', 1), ('<!do', '', 1), ('</sc', '', 1), ('</he', '', 1)]\n"
     ]
    }
   ],
   "source": [
    "cur = connect(connection_params) #Establishes cursor object and connect to the database\n",
    "year = 2012\n",
    "\n",
    "#Provides the year of the file \n",
    "\n",
    "#Sets the extention variable so that it selects filers in the state of New York\n",
    "extention = \" GROUP BY activity_year, respondent_state\"\n",
    " \n",
    "#Executes the query text against the database, formatting for the year and the extention\n",
    "cur.execute(sql_base.format(year=year, extention=extention))\n",
    "results = cur.fetchall() #Returns the query results.\n",
    "print(results)\n",
    "\n",
    "#Converts the results_list into a Pandas dataframe with names pulled from the SQL query.\n",
    "results_df = pd.DataFrame(results, columns=[desc[0] for desc in cur.description])\n",
    "cur.close() #Closes the connection and remove the cursor object.\n",
    "#results_df.head() #Shows the top 5 rows of the dataframe"
   ]
  },
  {
   "cell_type": "code",
   "execution_count": 21,
   "metadata": {},
   "outputs": [
    {
     "name": "stdout",
     "output_type": "stream",
     "text": [
      "I'm connected\n",
      "[('2013', 'DC', 18), ('2013', 'DE', 18), ('2013', 'SD', 42), ('2013', 'CA', 481), ('2013', 'MD', 121), ('2013', 'IN', 161), ('2013', 'FL', 292), ('2013', 'NV', 21), ('2013', 'AK', 13), ('2013', 'HI', 30), ('2013', 'WI', 236), ('2013', 'IA', 170), ('2013', 'ME', 54), ('2013', 'OH', 267), ('2013', 'IL', 419), ('2013', 'MO', 240), ('2013', 'GA', 202), ('2013', 'NC', 126), ('2013', 'MS', 65), ('2013', 'UT', 59), ('2013', 'ID', 29), ('2013', 'MT', 31), ('2013', 'TN', 180), ('2013', 'LA', 150), ('2013', 'KS', 146), ('2013', 'AR', 95), ('2013', 'MN', 222), ('2013', 'VA', 183), ('2013', 'VT', 13), ('2013', 'OK', 133), ('2013', 'WV', 53), ('2013', 'CT', 79), ('2013', 'AZ', 66), ('2013', 'AL', 137), ('2013', 'KY', 115), ('2013', 'CO', 130), ('2013', 'OR', 63), ('2013', 'NE', 86), ('2013', 'TX', 586), ('2013', 'R0', 4), ('2013', 'NY', 290), ('2013', 'MA', 246), ('2013', 'RI', 27), ('2013', 'PA', 304), ('2013', 'SC', 86), ('2013', 'NH', 25), ('2013', 'WA', 123), ('2013', 'WY', 19), ('2013', 'PR', 64), ('2013', 'ND', 39), ('2013', 'NM', 38), ('2013', 'MI', 227), ('2013', 'NJ', 190)]\n"
     ]
    }
   ],
   "source": [
    "cur = connect(connection_params) #Establishes cursor object and connect to the database\n",
    "year = 2013\n",
    "\n",
    "#Provides the year of the file \n",
    "\n",
    "#Sets the extention variable so that it selects filers in the state of New York\n",
    "extention = \" GROUP BY activity_year, respondent_state\"\n",
    " \n",
    "#Executes the query text against the database, formatting for the year and the extention\n",
    "cur.execute(sql_base.format(year=year, extention=extention))\n",
    "results = cur.fetchall() #Returns the query results.\n",
    "print(results)\n",
    "\n",
    "#Converts the results_list into a Pandas dataframe with names pulled from the SQL query.\n",
    "results_df = pd.DataFrame(results, columns=[desc[0] for desc in cur.description])\n",
    "cur.close() #Closes the connection and remove the cursor object.\n",
    "#results_df.head() #Shows the top 5 rows of the dataframe"
   ]
  },
  {
   "cell_type": "code",
   "execution_count": 22,
   "metadata": {},
   "outputs": [
    {
     "name": "stdout",
     "output_type": "stream",
     "text": [
      "I'm connected\n",
      "[('2014', 'HI', 32), ('2014', 'IL', 409), ('2014', 'CA', 471), ('2014', 'AL', 132), ('2014', 'IN', 157), ('2014', 'NM', 35), ('2014', 'MA', 241), ('2014', 'SD', 40), ('2014', 'OH', 250), ('2014', 'CO', 129), ('2014', 'WI', 233), ('2014', 'PR', 65), ('2014', 'NC', 109), ('2014', 'ME', 56), ('2014', 'ID', 24), ('2014', 'GA', 192), ('2014', 'MT', 29), ('2014', 'MD', 120), ('2014', 'WY', 18), ('2014', 'UT', 61), ('2014', 'IA', 165), ('2014', 'DC', 15), ('2014', 'AK', 14), ('2014', 'TX', 580), ('2014', 'DE', 17), ('2014', 'AZ', 58), ('2014', 'SC', 84), ('2014', 'KY', 113), ('2014', 'NY', 288), ('2014', 'MN', 229), ('2014', 'MO', 241), ('2014', 'NV', 18), ('2014', 'NJ', 185), ('2014', 'NE', 92), ('2014', 'MI', 230), ('2014', 'LA', 154), ('2014', 'RI', 26), ('2014', 'WV', 57), ('2014', 'KS', 143), ('2014', 'OR', 65), ('2014', 'VA', 182), ('2014', 'MS', 59), ('2014', 'AR', 85), ('2014', 'VT', 13), ('2014', 'CT', 78), ('2014', 'OK', 132), ('2014', 'ND', 38), ('2014', 'PA', 295), ('2014', 'FL', 280), ('2014', 'WA', 115), ('2014', 'NH', 26), ('2014', 'TN', 182)]\n"
     ]
    }
   ],
   "source": [
    "cur = connect(connection_params) #Establishes cursor object and connect to the database\n",
    "year = 2014\n",
    "\n",
    "\n",
    "#Provides the year of the file \n",
    "\n",
    "#Sets the extention variable so that it selects filers in the state of New York\n",
    "extention = \" GROUP BY activity_year, respondent_state\"\n",
    " \n",
    "#Executes the query text against the database, formatting for the year and the extention\n",
    "cur.execute(sql_base.format(year=year, extention=extention))\n",
    "results = cur.fetchall() #Returns the query results.\n",
    "print(results)\n",
    "\n",
    "#Converts the results_list into a Pandas dataframe with names pulled from the SQL query.\n",
    "results_df = pd.DataFrame(results, columns=[desc[0] for desc in cur.description])\n",
    "cur.close() #Closes the connection and remove the cursor object.\n",
    "#results_df.head() #Shows the top 5 rows of the dataframe"
   ]
  },
  {
   "cell_type": "code",
   "execution_count": 23,
   "metadata": {},
   "outputs": [
    {
     "name": "stdout",
     "output_type": "stream",
     "text": [
      "I'm connected\n",
      "[('2015', 'NJ', 181), ('2015', 'IN', 155), ('2015', 'HI', 30), ('2015', 'NE', 93), ('2015', 'MI', 219), ('2015', 'KY', 106), ('2015', 'DE', 18), ('2015', 'CA', 477), ('2015', 'TX', 567), ('2015', 'VT', 13), ('2015', 'AL', 129), ('2015', 'ME', 55), ('2015', 'MD', 117), ('2015', 'MA', 232), ('2015', 'CT', 77), ('2015', 'AK', 14), ('2015', 'NC', 105), ('2015', 'MS', 57), ('2015', 'MN', 227), ('2015', 'MO', 236), ('2015', 'AZ', 58), ('2015', 'OK', 130), ('2015', 'VA', 179), ('2015', 'CO', 127), ('2015', 'OH', 246), ('2015', 'OR', 62), ('2015', 'LA', 151), ('2015', 'NM', 36), ('2015', 'IL', 399), ('2015', 'WV', 56), ('2015', 'NY', 282), ('2015', 'ND', 39), ('2015', 'WA', 112), ('2015', 'IA', 170), ('2015', 'MT', 27), ('2015', 'AR', 79), ('2015', 'ID', 25), ('2015', 'NH', 25), ('2015', 'GA', 182), ('2015', 'WI', 227), ('2015', 'PR', 58), ('2015', 'TN', 175), ('2015', 'FL', 270), ('2015', 'KS', 140), ('2015', 'DC', 15), ('2015', 'RI', 26), ('2015', 'NV', 19), ('2015', 'WY', 16), ('2015', 'PA', 291), ('2015', 'UT', 63), ('2015', 'SD', 39), ('2015', 'SC', 81)]\n"
     ]
    }
   ],
   "source": [
    "cur = connect(connection_params) #Establishes cursor object and connect to the database\n",
    "year = 2015\n",
    "\n",
    "#Provides the year of the file \n",
    "\n",
    "#Sets the extention variable so that it selects filers in the state of New York\n",
    "extention = \" GROUP BY activity_year, respondent_state\"\n",
    " \n",
    "#Executes the query text against the database, formatting for the year and the extention\n",
    "cur.execute(sql_base.format(year=year, extention=extention))\n",
    "results = cur.fetchall() #Returns the query results.\n",
    "print(results)\n",
    "\n",
    "#Converts the results_list into a Pandas dataframe with names pulled from the SQL query.\n",
    "results_df = pd.DataFrame(results, columns=[desc[0] for desc in cur.description])\n",
    "cur.close() #Closes the connection and remove the cursor object.\n",
    "#results_df.head() #Shows the top 5 rows of the dataframe"
   ]
  },
  {
   "cell_type": "code",
   "execution_count": 24,
   "metadata": {},
   "outputs": [
    {
     "name": "stdout",
     "output_type": "stream",
     "text": [
      "I'm connected\n",
      "[('2016', 'NE', 90), ('2016', 'NV', 20), ('2016', 'PA', 281), ('2016', 'OH', 231), ('2016', 'MT', 25), ('2016', 'IN', 149), ('2016', 'WI', 218), ('2016', 'SD', 41), ('2016', 'ME', 55), ('2016', 'HI', 30), ('2016', 'FL', 264), ('2016', 'LA', 148), ('2016', 'MO', 224), ('2016', 'MN', 224), ('2016', 'MS', 60), ('2016', 'GA', 171), ('2016', 'ID', 24), ('2016', 'UT', 61), ('2016', 'MD', 113), ('2016', 'CA', 467), ('2016', 'PR', 56), ('2016', 'RI', 25), ('2016', 'KS', 143), ('2016', 'SC', 77), ('2016', 'CO', 122), ('2016', 'AL', 130), ('2016', 'AZ', 56), ('2016', 'MA', 223), ('2016', 'DC', 13), ('2016', 'AK', 14), ('2016', 'ND', 38), ('2016', 'NY', 287), ('2016', 'IA', 166), ('2016', 'OK', 139), ('2016', 'MI', 215), ('2016', 'TN', 175), ('2016', 'VA', 172), ('2016', 'OR', 61), ('2016', 'NC', 101), ('2016', 'WV', 57), ('2016', 'WY', 16), ('2016', 'KY', 106), ('2016', 'NM', 37), ('2016', 'CT', 76), ('2016', 'TX', 551), ('2016', 'AR', 79), ('2016', 'VT', 12), ('2016', 'WA', 111), ('2016', 'IL', 391), ('2016', 'NH', 24), ('2016', 'NJ', 176), ('2016', 'DE', 17)]\n"
     ]
    }
   ],
   "source": [
    "cur = connect(connection_params) #Establishes cursor object and connect to the database\n",
    "year = 2016\n",
    "\n",
    "#Provides the year of the file \n",
    "\n",
    "#Sets the extention variable so that it selects filers in the state of New York\n",
    "extention = \" GROUP BY activity_year, respondent_state\"\n",
    " \n",
    "#Executes the query text against the database, formatting for the year and the extention\n",
    "cur.execute(sql_base.format(year=year, extention=extention))\n",
    "results = cur.fetchall() #Returns the query results.\n",
    "print(results)\n",
    "\n",
    "#Converts the results_list into a Pandas dataframe with names pulled from the SQL query.\n",
    "results_df = pd.DataFrame(results, columns=[desc[0] for desc in cur.description])\n",
    "cur.close() #Closes the connection and remove the cursor object.\n",
    "#results_df.head() #Shows the top 5 rows of the dataframe"
   ]
  },
  {
   "cell_type": "code",
   "execution_count": 25,
   "metadata": {},
   "outputs": [
    {
     "name": "stdout",
     "output_type": "stream",
     "text": [
      "I'm connected\n",
      "[('2017', 'CT', 68), ('2017', 'RI', 24), ('2017', 'AL', 111), ('2017', 'TX', 466), ('2017', 'MS', 57), ('2017', 'WY', 14), ('2017', 'NH', 21), ('2017', 'IL', 329), ('2017', 'LA', 135), ('2017', 'VA', 152), ('2017', 'HI', 23), ('2017', 'CO', 102), ('2017', 'NM', 33), ('2017', 'KS', 117), ('2017', 'WV', 54), ('2017', 'MO', 197), ('2017', 'VT', 12), ('2017', 'NJ', 150), ('2017', 'ID', 22), ('2017', 'MA', 210), ('2017', 'OK', 129), ('2017', 'NY', 244), ('2017', 'NV', 15), ('2017', 'CA', 391), ('2017', 'WA', 86), ('2017', 'OH', 214), ('2017', 'OR', 47), ('2017', 'DC', 9), ('2017', 'NE', 76), ('2017', 'GA', 146), ('2017', 'PA', 266), ('2017', 'IA', 141), ('2017', 'MI', 184), ('2017', 'IN', 143), ('2017', 'NC', 85), ('2017', 'SD', 35), ('2017', 'DE', 14), ('2017', 'SC', 72), ('2017', 'AS', 1), ('2017', 'ME', 53), ('2017', 'MT', 24), ('2017', 'PR', 46), ('2017', 'TN', 155), ('2017', 'MD', 100), ('2017', 'WI', 207), ('2017', 'FL', 193), ('2017', 'AR', 68), ('2017', 'AK', 12), ('2017', 'ND', 34), ('2017', 'MN', 171), ('2017', 'AZ', 49), ('2017', 'KY', 94), ('2017', 'UT', 51)]\n"
     ]
    }
   ],
   "source": [
    "cur = connect(connection_params) #Establishes cursor object and connect to the database\n",
    "year = 2017\n",
    "\n",
    "#Provides the year of the file \n",
    "\n",
    "#Sets the extention variable so that it selects filers in the state of New York\n",
    "extention = \" GROUP BY activity_year, respondent_state\"\n",
    " \n",
    "#Executes the query text against the database, formatting for the year and the extention\n",
    "cur.execute(sql_base.format(year=year, extention=extention))\n",
    "results = cur.fetchall() #Returns the query results.\n",
    "print(results)\n",
    "\n",
    "#Converts the results_list into a Pandas dataframe with names pulled from the SQL query.\n",
    "results_df = pd.DataFrame(results, columns=[desc[0] for desc in cur.description])\n",
    "cur.close() #Closes the connection and remove the cursor object.\n",
    "#results_df.head() #Shows the top 5 rows of the dataframe"
   ]
  },
  {
   "cell_type": "markdown",
   "metadata": {},
   "source": [
    "### Using A Function to Create a Timeseries of Counts by Category\n",
    "A function may defined to create a Pandas dataframe of filer counts by a category. The sql command above that variabalizes by category may be placed in file. \n",
    "\n",
    "The code below demonstrates a function that passes in a sql_command file, a start-year, an end-year, and an extention to the sql_command file. The default for the function produces a time series between years 2004 and 2017 in the form of a Pandas dataframe.\n",
    "\n",
    "As shown below, the Pandas \"loc\" function may be used to reorder columns."
   ]
  },
  {
   "cell_type": "code",
   "execution_count": 28,
   "metadata": {},
   "outputs": [],
   "source": [
    "def time_series_by_category(sql_file=None, cur=None, extention=None, start=2013, end=2016):\n",
    "    \"\"\" \n",
    "    This function requires a path to a SQL file and a cursor object. \n",
    "    The default start year is 2004, the default end year is 2017.\n",
    "    \n",
    "    This function will call the passed SQL file against each of the years \n",
    "    from start to end.\n",
    "    \n",
    "    The results will be returned as a Pandas dataframe.\n",
    "    \"\"\"\n",
    "    years = list(range(start, (end+1))) #Convert start and stop points to a list for iteration.\n",
    "    results_list = [] #Create an empty list to hold query results.\n",
    "    for year in years: #Iterate over desired years.\n",
    "        sql_base = \"\" #Create blank string to modify into SQL query.\n",
    "        with open(sql_file) as in_sql: #Open the SQL file.\n",
    "            for line in in_sql.readlines(): #Read all lines in the SQL file.\n",
    "                sql_base = sql_base + line.strip(\"\\n\") #Concatenate lines and remove newline characters.\n",
    "        #Replace the year and extention placeholder and execute the query.\n",
    "        cur.execute(sql_base.format(year=year,extention=extention)) \n",
    "        results = cur.fetchall() #Return results from the cursor.\n",
    "        #return cur.description[0]\n",
    "        print(results[0])\n",
    "        results_list.append(results[0]) #Append results to list.\n",
    "    #Convert results list to a dataframe with column names from the query.\n",
    "    results_df = pd.DataFrame(results_list, columns=[desc[0] for desc in cur.description])\n",
    "    return results_df #return a dataframe of the results"
   ]
  },
  {
   "cell_type": "code",
   "execution_count": 29,
   "metadata": {},
   "outputs": [
    {
     "name": "stdout",
     "output_type": "stream",
     "text": [
      "I'm connected\n",
      "('2013', 290)\n",
      "('2014', 288)\n",
      "('2015', 282)\n",
      "('2016', 287)\n"
     ]
    },
    {
     "data": {
      "text/html": [
       "<div>\n",
       "<style scoped>\n",
       "    .dataframe tbody tr th:only-of-type {\n",
       "        vertical-align: middle;\n",
       "    }\n",
       "\n",
       "    .dataframe tbody tr th {\n",
       "        vertical-align: top;\n",
       "    }\n",
       "\n",
       "    .dataframe thead th {\n",
       "        text-align: right;\n",
       "    }\n",
       "</style>\n",
       "<table border=\"1\" class=\"dataframe\">\n",
       "  <thead>\n",
       "    <tr style=\"text-align: right;\">\n",
       "      <th></th>\n",
       "      <th>activity_year</th>\n",
       "      <th>filer_count</th>\n",
       "    </tr>\n",
       "  </thead>\n",
       "  <tbody>\n",
       "    <tr>\n",
       "      <th>0</th>\n",
       "      <td>2013</td>\n",
       "      <td>290</td>\n",
       "    </tr>\n",
       "    <tr>\n",
       "      <th>1</th>\n",
       "      <td>2014</td>\n",
       "      <td>288</td>\n",
       "    </tr>\n",
       "    <tr>\n",
       "      <th>2</th>\n",
       "      <td>2015</td>\n",
       "      <td>282</td>\n",
       "    </tr>\n",
       "    <tr>\n",
       "      <th>3</th>\n",
       "      <td>2016</td>\n",
       "      <td>287</td>\n",
       "    </tr>\n",
       "  </tbody>\n",
       "</table>\n",
       "</div>"
      ],
      "text/plain": [
       "  activity_year  filer_count\n",
       "0          2013          290\n",
       "1          2014          288\n",
       "2          2015          282\n",
       "3          2016          287"
      ]
     },
     "execution_count": 29,
     "metadata": {},
     "output_type": "execute_result"
    }
   ],
   "source": [
    "#Using the function to return data.\n",
    "cur = connect(connection_params) #Create a database connection and cursor object.\n",
    "#Call the function.\n",
    "time_series_df = time_series_by_category(sql_file=\"./sql_commands/2_filer_count_by_category.sql\", \n",
    "                             cur=cur,extention = \"WHERE respondent_state = 'NY' GROUP BY activity_year, respondent_state\"\n",
    " )\n",
    "time_series_df #Show the dataframe."
   ]
  },
  {
   "cell_type": "markdown",
   "metadata": {},
   "source": [
    "### Saving a Dataframe to a Pipe-Delimited File\n",
    "The dataframe created in the previous step can be saved to a file in a single command using the to_csv() command in Pandas.\n",
    "\n",
    "The first argument passed is the desired path and name of the file.\n",
    "If the passed directory path does not exist an error will be thrown. For programmatic creation of file paths, see documentation of the OS module. \n",
    "\n",
    "The delimiter used in file creation can be changed by passing sep=\"delimiter\".  \n",
    "By default, the dataframe index is saved to the file. To change this behavior pass index=False."
   ]
  },
  {
   "cell_type": "code",
   "execution_count": 30,
   "metadata": {},
   "outputs": [],
   "source": [
    "#Save the dataframe to a file\n",
    "time_series_df.to_csv(\"analysis_output/tables/2_filer_count_by_category.txt\", \n",
    "                      index=False, sep=\"|\")\n"
   ]
  },
  {
   "cell_type": "markdown",
   "metadata": {},
   "source": [
    "### Visualizing Data From Dataframes\n",
    "The below example will use Matplotlib (imported as plt) to do some basic visualization.  \n",
    "\n",
    "Drawing from the previous example, a function may be defined to plot using information from a pandas dataframe. "
   ]
  },
  {
   "cell_type": "code",
   "execution_count": 31,
   "metadata": {},
   "outputs": [],
   "source": [
    "def bar_chart(x_data=None, y_data=None, title=\"Chart Title\", x_label=None, y_label=None, \n",
    "              color=\"blue\", figsize=(10,5)):\n",
    "    \"\"\"\n",
    "    This function requires two Pandas data series for x and y data.\n",
    "    Optionally: the x label, y label, color, title, and size may be set. \n",
    "\n",
    "    This function returns a bar chart with the specified parameters.\n",
    "    \"\"\"\n",
    "    if x_data is None or y_data is None:\n",
    "        print(\"No data passed.\")\n",
    "        return None\n",
    "    if x_label is None:\n",
    "        x_label = x_data.name\n",
    "    if y_label is None:\n",
    "            y_label = y_data.name\n",
    "\n",
    "    fig = plt.figure(figsize=figsize) #Sets size of the bar chart. \n",
    "    plt.bar(x_data, y_data, color=color) #Plots x and y and set the color.\n",
    "    plt.title(title) #Sets title of the chart.\n",
    "    plt.xlabel(x_label) #Sets x-axis label.\n",
    "    plt.ylabel(y_label) #Sets y-axis label. \n",
    "    plt.xticks(x_data, rotation='45') #Setting x-tick labels and rotating 45 degrees.  \n",
    "    return plt"
   ]
  },
  {
   "cell_type": "code",
   "execution_count": 32,
   "metadata": {},
   "outputs": [
    {
     "data": {
      "image/png": "[encoded data removed]",
      "text/plain": [
       "<Figure size 720x360 with 1 Axes>"
      ]
     },
     "metadata": {
      "needs_background": "light"
     },
     "output_type": "display_data"
    }
   ],
   "source": [
    "#Create a bar chart using the function defined above.\n",
    "#Save the graph output to a PNG file.\n",
    "plt = bar_chart(x_data=time_series_df['activity_year'], y_data=time_series_df['filer_count'],\n",
    "         title=\"Number of HMDA Filers in NY, 2004-2017\", figsize=(10,5))\n",
    "plt.savefig('analysis_output/charts/2_filer_count_by_category.png') "
   ]
  },
  {
   "cell_type": "code",
   "execution_count": null,
   "metadata": {},
   "outputs": [],
   "source": []
  }
 ],
 "metadata": {
  "kernelspec": {
   "display_name": "Python 3",
   "language": "python",
   "name": "python3"
  },
  "language_info": {
   "codemirror_mode": {
    "name": "ipython",
    "version": 3
   },
   "file_extension": ".py",
   "mimetype": "text/x-python",
   "name": "python",
   "nbconvert_exporter": "python",
   "pygments_lexer": "ipython3",
   "version": "3.7.1"
  }
 },
 "nbformat": 4,
 "nbformat_minor": 2
}
